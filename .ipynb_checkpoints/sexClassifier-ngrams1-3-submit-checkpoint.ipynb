{
 "cells": [
  {
   "cell_type": "markdown",
   "metadata": {
    "colab_type": "text",
    "id": "view-in-github"
   },
   "source": [
    "<a href=\"https://colab.research.google.com/github/em-chiu/intersection_project/blob/main/EC%20Classifier.ipynb\" target=\"_parent\"><img src=\"https://colab.research.google.com/assets/colab-badge.svg\" alt=\"Open In Colab\"/></a>"
   ]
  },
  {
   "cell_type": "code",
   "execution_count": 1,
   "metadata": {
    "colab": {
     "base_uri": "https://localhost:8080/"
    },
    "id": "DSgFvHzhSPNK",
    "outputId": "fe6a4603-759f-483e-b192-e891f58f83e0"
   },
   "outputs": [
    {
     "name": "stderr",
     "output_type": "stream",
     "text": [
      "[nltk_data] Downloading package stopwords to\n",
      "[nltk_data]     /Users/emilychiu/nltk_data...\n",
      "[nltk_data]   Package stopwords is already up-to-date!\n",
      "[nltk_data] Downloading package punkt to /Users/emilychiu/nltk_data...\n",
      "[nltk_data]   Package punkt is already up-to-date!\n",
      "[nltk_data] Downloading package averaged_perceptron_tagger to\n",
      "[nltk_data]     /Users/emilychiu/nltk_data...\n",
      "[nltk_data]   Package averaged_perceptron_tagger is already up-to-\n",
      "[nltk_data]       date!\n"
     ]
    }
   ],
   "source": [
    "import nltk\n",
    "nltk.download('stopwords')\n",
    "nltk.download('punkt')\n",
    "import urllib.request\n",
    "from nltk.corpus import stopwords\n",
    "from nltk.tokenize import TweetTokenizer\n",
    "import re\n",
    "import numpy as np\n",
    "from collections import Counter\n",
    "from sklearn import preprocessing\n",
    "import string\n",
    "nltk.download('averaged_perceptron_tagger') # to solve pos feature extract issue\n",
    "from sklearn.naive_bayes import MultinomialNB\n",
    "from sklearn.model_selection import cross_val_score\n",
    "\n",
    "import pandas as pd # data processing\n",
    "import csv\n",
    "import sys\n",
    "import unidecode\n",
    "import seaborn as sns"
   ]
  },
  {
   "cell_type": "code",
   "execution_count": 2,
   "metadata": {},
   "outputs": [],
   "source": [
    "# load the data to df, try1 works\n",
    "df = pd.read_csv('sexistinfo.csv', header=None, encoding = \"ISO-8859-1\").drop(0, axis=1)"
   ]
  },
  {
   "cell_type": "code",
   "execution_count": 3,
   "metadata": {},
   "outputs": [
    {
     "data": {
      "text/html": [
       "<div>\n",
       "<style scoped>\n",
       "    .dataframe tbody tr th:only-of-type {\n",
       "        vertical-align: middle;\n",
       "    }\n",
       "\n",
       "    .dataframe tbody tr th {\n",
       "        vertical-align: top;\n",
       "    }\n",
       "\n",
       "    .dataframe thead th {\n",
       "        text-align: right;\n",
       "    }\n",
       "</style>\n",
       "<table border=\"1\" class=\"dataframe\">\n",
       "  <thead>\n",
       "    <tr style=\"text-align: right;\">\n",
       "      <th></th>\n",
       "      <th>1</th>\n",
       "      <th>2</th>\n",
       "    </tr>\n",
       "  </thead>\n",
       "  <tbody>\n",
       "    <tr>\n",
       "      <th>0</th>\n",
       "      <td>text</td>\n",
       "      <td>label</td>\n",
       "    </tr>\n",
       "    <tr>\n",
       "      <th>1</th>\n",
       "      <td>@MirkoPlsll @IanisRondeau ouais.. un chef d'oe...</td>\n",
       "      <td>0</td>\n",
       "    </tr>\n",
       "    <tr>\n",
       "      <th>2</th>\n",
       "      <td>@MamzelleMNa Une trÃ¨s humble femme! #Ironie</td>\n",
       "      <td>0</td>\n",
       "    </tr>\n",
       "    <tr>\n",
       "      <th>3</th>\n",
       "      <td>BLOGUE - Â«TsÃ©, la paritÃ© homme-femme...Â» a...</td>\n",
       "      <td>0</td>\n",
       "    </tr>\n",
       "    <tr>\n",
       "      <th>4</th>\n",
       "      <td>Je suis une femme matÃ©rialiste et superficiel...</td>\n",
       "      <td>0</td>\n",
       "    </tr>\n",
       "  </tbody>\n",
       "</table>\n",
       "</div>"
      ],
      "text/plain": [
       "                                                   1      2\n",
       "0                                               text  label\n",
       "1  @MirkoPlsll @IanisRondeau ouais.. un chef d'oe...      0\n",
       "2       @MamzelleMNa Une trÃ¨s humble femme! #Ironie      0\n",
       "3  BLOGUE - Â«TsÃ©, la paritÃ© homme-femme...Â» a...      0\n",
       "4  Je suis une femme matÃ©rialiste et superficiel...      0"
      ]
     },
     "execution_count": 3,
     "metadata": {},
     "output_type": "execute_result"
    }
   ],
   "source": [
    "# preview data\n",
    "df.head()"
   ]
  },
  {
   "cell_type": "code",
   "execution_count": 4,
   "metadata": {},
   "outputs": [],
   "source": [
    "# Drop first row \n",
    "# by selecting all rows from first row onwards\n",
    "df = df.iloc[1: , :]"
   ]
  },
  {
   "cell_type": "code",
   "execution_count": 5,
   "metadata": {},
   "outputs": [
    {
     "data": {
      "text/plain": [
       "(9341, 2)"
      ]
     },
     "execution_count": 5,
     "metadata": {},
     "output_type": "execute_result"
    }
   ],
   "source": [
    "# view dimensions of dataset\n",
    "df.shape\n",
    "# 9341 instances and 2 attributes in dataset"
   ]
  },
  {
   "cell_type": "code",
   "execution_count": 6,
   "metadata": {},
   "outputs": [
    {
     "data": {
      "text/plain": [
       "Index(['tweet', 'label'], dtype='object')"
      ]
     },
     "execution_count": 6,
     "metadata": {},
     "output_type": "execute_result"
    }
   ],
   "source": [
    "# Rename column names\n",
    "col_names = ['tweet', 'label']\n",
    "df.columns = col_names\n",
    "df.columns"
   ]
  },
  {
   "cell_type": "code",
   "execution_count": 7,
   "metadata": {},
   "outputs": [
    {
     "data": {
      "text/html": [
       "<div>\n",
       "<style scoped>\n",
       "    .dataframe tbody tr th:only-of-type {\n",
       "        vertical-align: middle;\n",
       "    }\n",
       "\n",
       "    .dataframe tbody tr th {\n",
       "        vertical-align: top;\n",
       "    }\n",
       "\n",
       "    .dataframe thead th {\n",
       "        text-align: right;\n",
       "    }\n",
       "</style>\n",
       "<table border=\"1\" class=\"dataframe\">\n",
       "  <thead>\n",
       "    <tr style=\"text-align: right;\">\n",
       "      <th></th>\n",
       "      <th>tweet</th>\n",
       "      <th>label</th>\n",
       "    </tr>\n",
       "  </thead>\n",
       "  <tbody>\n",
       "    <tr>\n",
       "      <th>1</th>\n",
       "      <td>@MirkoPlsll @IanisRondeau ouais.. un chef d'oe...</td>\n",
       "      <td>0</td>\n",
       "    </tr>\n",
       "    <tr>\n",
       "      <th>2</th>\n",
       "      <td>@MamzelleMNa Une trÃ¨s humble femme! #Ironie</td>\n",
       "      <td>0</td>\n",
       "    </tr>\n",
       "    <tr>\n",
       "      <th>3</th>\n",
       "      <td>BLOGUE - Â«TsÃ©, la paritÃ© homme-femme...Â» a...</td>\n",
       "      <td>0</td>\n",
       "    </tr>\n",
       "    <tr>\n",
       "      <th>4</th>\n",
       "      <td>Je suis une femme matÃ©rialiste et superficiel...</td>\n",
       "      <td>0</td>\n",
       "    </tr>\n",
       "    <tr>\n",
       "      <th>5</th>\n",
       "      <td>Mise en ligne de mon article sur @PayeTaShnek ...</td>\n",
       "      <td>0</td>\n",
       "    </tr>\n",
       "  </tbody>\n",
       "</table>\n",
       "</div>"
      ],
      "text/plain": [
       "                                               tweet label\n",
       "1  @MirkoPlsll @IanisRondeau ouais.. un chef d'oe...     0\n",
       "2       @MamzelleMNa Une trÃ¨s humble femme! #Ironie     0\n",
       "3  BLOGUE - Â«TsÃ©, la paritÃ© homme-femme...Â» a...     0\n",
       "4  Je suis une femme matÃ©rialiste et superficiel...     0\n",
       "5  Mise en ligne de mon article sur @PayeTaShnek ...     0"
      ]
     },
     "execution_count": 7,
     "metadata": {},
     "output_type": "execute_result"
    }
   ],
   "source": [
    "# preview after renaming\n",
    "df.head()"
   ]
  },
  {
   "cell_type": "code",
   "execution_count": 8,
   "metadata": {},
   "outputs": [
    {
     "name": "stdout",
     "output_type": "stream",
     "text": [
      "<class 'pandas.core.frame.DataFrame'>\n",
      "RangeIndex: 9341 entries, 1 to 9341\n",
      "Data columns (total 2 columns):\n",
      " #   Column  Non-Null Count  Dtype \n",
      "---  ------  --------------  ----- \n",
      " 0   tweet   9340 non-null   object\n",
      " 1   label   9330 non-null   object\n",
      "dtypes: object(2)\n",
      "memory usage: 146.1+ KB\n"
     ]
    }
   ],
   "source": [
    "# summary of data\n",
    "df.info()\n",
    "# no missing data\n",
    "# Categorical variables have data type object"
   ]
  },
  {
   "cell_type": "code",
   "execution_count": 9,
   "metadata": {},
   "outputs": [
    {
     "name": "stdout",
     "output_type": "stream",
     "text": [
      "There are 2 categorical variables\n",
      "\n",
      "The categorical variables are :\n",
      "\n",
      " ['tweet', 'label']\n"
     ]
    }
   ],
   "source": [
    "# find categorical variables\n",
    "categorical = [var for var in df.columns if df[var].dtype=='O']\n",
    "\n",
    "print('There are {} categorical variables\\n'.format(len(categorical)))\n",
    "\n",
    "print('The categorical variables are :\\n\\n', categorical)"
   ]
  },
  {
   "cell_type": "code",
   "execution_count": 10,
   "metadata": {},
   "outputs": [
    {
     "data": {
      "text/html": [
       "<div>\n",
       "<style scoped>\n",
       "    .dataframe tbody tr th:only-of-type {\n",
       "        vertical-align: middle;\n",
       "    }\n",
       "\n",
       "    .dataframe tbody tr th {\n",
       "        vertical-align: top;\n",
       "    }\n",
       "\n",
       "    .dataframe thead th {\n",
       "        text-align: right;\n",
       "    }\n",
       "</style>\n",
       "<table border=\"1\" class=\"dataframe\">\n",
       "  <thead>\n",
       "    <tr style=\"text-align: right;\">\n",
       "      <th></th>\n",
       "      <th>tweet</th>\n",
       "      <th>label</th>\n",
       "    </tr>\n",
       "  </thead>\n",
       "  <tbody>\n",
       "    <tr>\n",
       "      <th>1</th>\n",
       "      <td>@MirkoPlsll @IanisRondeau ouais.. un chef d'oe...</td>\n",
       "      <td>0</td>\n",
       "    </tr>\n",
       "    <tr>\n",
       "      <th>2</th>\n",
       "      <td>@MamzelleMNa Une trÃ¨s humble femme! #Ironie</td>\n",
       "      <td>0</td>\n",
       "    </tr>\n",
       "    <tr>\n",
       "      <th>3</th>\n",
       "      <td>BLOGUE - Â«TsÃ©, la paritÃ© homme-femme...Â» a...</td>\n",
       "      <td>0</td>\n",
       "    </tr>\n",
       "    <tr>\n",
       "      <th>4</th>\n",
       "      <td>Je suis une femme matÃ©rialiste et superficiel...</td>\n",
       "      <td>0</td>\n",
       "    </tr>\n",
       "    <tr>\n",
       "      <th>5</th>\n",
       "      <td>Mise en ligne de mon article sur @PayeTaShnek ...</td>\n",
       "      <td>0</td>\n",
       "    </tr>\n",
       "  </tbody>\n",
       "</table>\n",
       "</div>"
      ],
      "text/plain": [
       "                                               tweet label\n",
       "1  @MirkoPlsll @IanisRondeau ouais.. un chef d'oe...     0\n",
       "2       @MamzelleMNa Une trÃ¨s humble femme! #Ironie     0\n",
       "3  BLOGUE - Â«TsÃ©, la paritÃ© homme-femme...Â» a...     0\n",
       "4  Je suis une femme matÃ©rialiste et superficiel...     0\n",
       "5  Mise en ligne de mon article sur @PayeTaShnek ...     0"
      ]
     },
     "execution_count": 10,
     "metadata": {},
     "output_type": "execute_result"
    }
   ],
   "source": [
    "# view the categorical variables\n",
    "df[categorical].head()"
   ]
  },
  {
   "cell_type": "code",
   "execution_count": 11,
   "metadata": {},
   "outputs": [
    {
     "data": {
      "text/plain": [
       "tweet     1\n",
       "label    11\n",
       "dtype: int64"
      ]
     },
     "execution_count": 11,
     "metadata": {},
     "output_type": "execute_result"
    }
   ],
   "source": [
    "# check missing values in categorical variables\n",
    "df[categorical].isnull().sum()\n",
    "\n",
    "# drop values (in processing)"
   ]
  },
  {
   "cell_type": "code",
   "execution_count": 12,
   "metadata": {},
   "outputs": [],
   "source": [
    "df.dropna(inplace = True)\n",
    "# drop a rows whose all data is missing or contain null values(NaN) \n",
    "# in place changes df"
   ]
  },
  {
   "cell_type": "code",
   "execution_count": 13,
   "metadata": {},
   "outputs": [
    {
     "name": "stdout",
     "output_type": "stream",
     "text": [
      "<class 'pandas.core.frame.DataFrame'>\n",
      "Int64Index: 9330 entries, 1 to 9341\n",
      "Data columns (total 2 columns):\n",
      " #   Column  Non-Null Count  Dtype \n",
      "---  ------  --------------  ----- \n",
      " 0   tweet   9330 non-null   object\n",
      " 1   label   9330 non-null   object\n",
      "dtypes: object(2)\n",
      "memory usage: 218.7+ KB\n"
     ]
    }
   ],
   "source": [
    "df.info()\n",
    "# after dropping rows w/ nulls"
   ]
  },
  {
   "cell_type": "code",
   "execution_count": 14,
   "metadata": {},
   "outputs": [
    {
     "name": "stdout",
     "output_type": "stream",
     "text": [
      "Le 25 janvier se tiendra la premiÃ¨re JournÃ©e contre le sexisme #EnsembleContreLeSexisme https://t.co/AeT5xrm83W via @latribune                                                                                                                                                                                          8\n",
      "@frhaz @partisocialiste @RachidTemal Le test du sondage par le tweet inutile aprÃ¨s 10j de silence est echec Freddy ! #Degage #BalanceTonPorc                                                                                                                                                                             6\n",
      "#journeedesdroitsdesfemmes \\nVoici le flot d immondices que reÃ§oit @Simonnet2 sur Twitter \\nÃ gerber ð¤¢\\n#Balancetonporc https://t.co/7tm8VsLICh                                                                                                                                                                      4\n",
      "ð´@Monier_eric qui dirige aujourd'hui la rÃ©daction de @LCI est accusÃ© par 14 journalistes d'harcÃ¨lement sexuel. â¶ï¸https://t.co/8MGOq5rC2v https://t.co/zxR4HEpdjb                                                                                                                                                4\n",
      "Eric Monier, directeur de la rÃ©daction de #LCI, attaquÃ© en justice pour harcÃ¨lement sexuel et moral. #BalanceTonPorc https://t.co/NbpkeLG0U2                                                                                                                                                                           4\n",
      "                                                                                                                                                                                                                                                                                                                         ..\n",
      "j'adhÃ¨re, excellent article.\\n#sexisme #balancetonporc #feminisme https://t.co/I7gEZD9S54                                                                                                                                                                                                                                1\n",
      "Eh bas moi je trouve au contraire que #Friends est en fait... rÃ©aliste.\\nOn dÃ©nonce aujrd des situations problÃ©matiques (homo/transphobie, #sexisme, #grossophobie...).\\nOn aurait pas Ã  les dÃ©noncer si elles n'existaient pas, si elles n'avaient pas existÃ©s par expl : dans les 90's https://t.co/pWImBM4Id6    1\n",
      "Nouveau â¡ Guide #Ã©ducation Ã  la sexualitÃ© par #UNESCO pr conseils, informations auprÃ¨s des jeunes ðð pr favoriser #libertÃ© #EgaliteFH #santÃ© #Ã©mancipation ðºð¹ et pr combattre #violences liÃ©es au #sexisme #genre #harcÃ¨lement #VIH...\\n\\nhttps://t.co/zJM4m3g4ed https://t.co/BUmQjUqvxW          1\n",
      "Ai croisÃ© une femme d'une cinquante d'annÃ©es dans le mÃ©tro. Elle Ã©tait d'un indicible charme avec ses cheveux poivre et sel. Quelques sourires partagÃ©s. J'ai osÃ© un \"bonne journÃ©e\" au sortir du mÃ©tro. Sourires. Tt n'est pas perdu dans ce climat hystÃ©rique #sexisme #harcellement                           1\n",
      "@Admir_fdlrc @cardoso_lisa @nadine__morano au bout dâun moment nvm. vous Ãªtes lÃ  vous gonflez les gens h37 oh. quand câest des bonnes soeurs qui se voilent vous lâouvrez pas votre bouche. chaque femme est libre de se vetir comme elle veut putain. avec votre racisme mal cachÃ© bande de haineux.            1\n",
      "Name: tweet, Length: 8587, dtype: int64\n",
      "0    6330\n",
      "1    3000\n",
      "Name: label, dtype: int64\n"
     ]
    }
   ],
   "source": [
    "# view frequency counts of values in categorical variables\n",
    "for var in categorical: \n",
    "    print(df[var].value_counts())\n",
    "\n",
    "#0    6330\n",
    "#1    3000"
   ]
  },
  {
   "cell_type": "code",
   "execution_count": 15,
   "metadata": {},
   "outputs": [
    {
     "name": "stdout",
     "output_type": "stream",
     "text": [
      "Le 25 janvier se tiendra la premiÃ¨re JournÃ©e contre le sexisme #EnsembleContreLeSexisme https://t.co/AeT5xrm83W via @latribune                                                                                                                                                                                          0.000857\n",
      "@frhaz @partisocialiste @RachidTemal Le test du sondage par le tweet inutile aprÃ¨s 10j de silence est echec Freddy ! #Degage #BalanceTonPorc                                                                                                                                                                             0.000643\n",
      "#journeedesdroitsdesfemmes \\nVoici le flot d immondices que reÃ§oit @Simonnet2 sur Twitter \\nÃ gerber ð¤¢\\n#Balancetonporc https://t.co/7tm8VsLICh                                                                                                                                                                      0.000429\n",
      "ð´@Monier_eric qui dirige aujourd'hui la rÃ©daction de @LCI est accusÃ© par 14 journalistes d'harcÃ¨lement sexuel. â¶ï¸https://t.co/8MGOq5rC2v https://t.co/zxR4HEpdjb                                                                                                                                                0.000429\n",
      "Eric Monier, directeur de la rÃ©daction de #LCI, attaquÃ© en justice pour harcÃ¨lement sexuel et moral. #BalanceTonPorc https://t.co/NbpkeLG0U2                                                                                                                                                                           0.000429\n",
      "                                                                                                                                                                                                                                                                                                                            ...   \n",
      "j'adhÃ¨re, excellent article.\\n#sexisme #balancetonporc #feminisme https://t.co/I7gEZD9S54                                                                                                                                                                                                                                0.000107\n",
      "Eh bas moi je trouve au contraire que #Friends est en fait... rÃ©aliste.\\nOn dÃ©nonce aujrd des situations problÃ©matiques (homo/transphobie, #sexisme, #grossophobie...).\\nOn aurait pas Ã  les dÃ©noncer si elles n'existaient pas, si elles n'avaient pas existÃ©s par expl : dans les 90's https://t.co/pWImBM4Id6    0.000107\n",
      "Nouveau â¡ Guide #Ã©ducation Ã  la sexualitÃ© par #UNESCO pr conseils, informations auprÃ¨s des jeunes ðð pr favoriser #libertÃ© #EgaliteFH #santÃ© #Ã©mancipation ðºð¹ et pr combattre #violences liÃ©es au #sexisme #genre #harcÃ¨lement #VIH...\\n\\nhttps://t.co/zJM4m3g4ed https://t.co/BUmQjUqvxW          0.000107\n",
      "Ai croisÃ© une femme d'une cinquante d'annÃ©es dans le mÃ©tro. Elle Ã©tait d'un indicible charme avec ses cheveux poivre et sel. Quelques sourires partagÃ©s. J'ai osÃ© un \"bonne journÃ©e\" au sortir du mÃ©tro. Sourires. Tt n'est pas perdu dans ce climat hystÃ©rique #sexisme #harcellement                           0.000107\n",
      "@Admir_fdlrc @cardoso_lisa @nadine__morano au bout dâun moment nvm. vous Ãªtes lÃ  vous gonflez les gens h37 oh. quand câest des bonnes soeurs qui se voilent vous lâouvrez pas votre bouche. chaque femme est libre de se vetir comme elle veut putain. avec votre racisme mal cachÃ© bande de haineux.            0.000107\n",
      "Name: tweet, Length: 8587, dtype: float64\n",
      "0    0.678457\n",
      "1    0.321543\n",
      "Name: label, dtype: float64\n"
     ]
    }
   ],
   "source": [
    "# view frequency distribution of categorical variables\n",
    "for var in categorical:   \n",
    "    print(df[var].value_counts()/float(len(df)))"
   ]
  },
  {
   "cell_type": "code",
   "execution_count": 16,
   "metadata": {},
   "outputs": [
    {
     "data": {
      "text/plain": [
       "0    6330\n",
       "1    3000\n",
       "Name: label, dtype: int64"
      ]
     },
     "execution_count": 16,
     "metadata": {},
     "output_type": "execute_result"
    }
   ],
   "source": [
    "# # check frequency distribution of values in label variable\n",
    "df.label.value_counts()"
   ]
  },
  {
   "cell_type": "code",
   "execution_count": 17,
   "metadata": {},
   "outputs": [
    {
     "data": {
      "text/plain": [
       "1       @mirkoplsll @ianisrondeau ouais.. un chef d'oe...\n",
       "2            @mamzellemna une trã¨s humble femme! #ironie\n",
       "3       blogue - â«tsã©, la paritã© homme-femme...â» a...\n",
       "4       je suis une femme matã©rialiste et superficiel...\n",
       "5       mise en ligne de mon article sur @payetashnek ...\n",
       "                              ...                        \n",
       "9337    #sã©golã¨neroyal a participã© activement au dã...\n",
       "9338    depuis l'affaire dsk, les fã©ministes ne veule...\n",
       "9339    analogie. câest comme dire ã  une femme, vou...\n",
       "9340    si t'as une bite a la place du coeur, t'ã©tonn...\n",
       "9341    @admir_fdlrc @cardoso_lisa @nadine__morano au ...\n",
       "Name: lowered_tweet, Length: 9330, dtype: object"
      ]
     },
     "execution_count": 17,
     "metadata": {},
     "output_type": "execute_result"
    }
   ],
   "source": [
    "# Lowercase all words\n",
    "def make_lower(a_string):\n",
    "    return a_string.lower()\n",
    "\n",
    "df['lowered_tweet'] = df['tweet'].apply(make_lower)\n",
    "df['lowered_tweet']"
   ]
  },
  {
   "cell_type": "code",
   "execution_count": 18,
   "metadata": {},
   "outputs": [
    {
     "data": {
      "text/html": [
       "<div>\n",
       "<style scoped>\n",
       "    .dataframe tbody tr th:only-of-type {\n",
       "        vertical-align: middle;\n",
       "    }\n",
       "\n",
       "    .dataframe tbody tr th {\n",
       "        vertical-align: top;\n",
       "    }\n",
       "\n",
       "    .dataframe thead th {\n",
       "        text-align: right;\n",
       "    }\n",
       "</style>\n",
       "<table border=\"1\" class=\"dataframe\">\n",
       "  <thead>\n",
       "    <tr style=\"text-align: right;\">\n",
       "      <th></th>\n",
       "      <th>tweet</th>\n",
       "      <th>label</th>\n",
       "      <th>lowered_tweet</th>\n",
       "      <th>tokenized_tweet</th>\n",
       "    </tr>\n",
       "  </thead>\n",
       "  <tbody>\n",
       "    <tr>\n",
       "      <th>1</th>\n",
       "      <td>@MirkoPlsll @IanisRondeau ouais.. un chef d'oe...</td>\n",
       "      <td>0</td>\n",
       "      <td>@mirkoplsll @ianisrondeau ouais.. un chef d'oe...</td>\n",
       "      <td>[@mirkoplsll, @ianisrondeau, ouais, .., un, ch...</td>\n",
       "    </tr>\n",
       "    <tr>\n",
       "      <th>2</th>\n",
       "      <td>@MamzelleMNa Une trÃ¨s humble femme! #Ironie</td>\n",
       "      <td>0</td>\n",
       "      <td>@mamzellemna une trã¨s humble femme! #ironie</td>\n",
       "      <td>[@mamzellemna, une, trã, ¨, s, humble, femme, ...</td>\n",
       "    </tr>\n",
       "    <tr>\n",
       "      <th>3</th>\n",
       "      <td>BLOGUE - Â«TsÃ©, la paritÃ© homme-femme...Â» a...</td>\n",
       "      <td>0</td>\n",
       "      <td>blogue - â«tsã©, la paritã© homme-femme...â» a...</td>\n",
       "      <td>[blogue, -, â, «, tsã, ©, ,, la, paritã, ©, ho...</td>\n",
       "    </tr>\n",
       "    <tr>\n",
       "      <th>4</th>\n",
       "      <td>Je suis une femme matÃ©rialiste et superficiel...</td>\n",
       "      <td>0</td>\n",
       "      <td>je suis une femme matã©rialiste et superficiel...</td>\n",
       "      <td>[je, suis, une, femme, matã, ©, rialiste, et, ...</td>\n",
       "    </tr>\n",
       "    <tr>\n",
       "      <th>5</th>\n",
       "      <td>Mise en ligne de mon article sur @PayeTaShnek ...</td>\n",
       "      <td>0</td>\n",
       "      <td>mise en ligne de mon article sur @payetashnek ...</td>\n",
       "      <td>[mise, en, ligne, de, mon, article, sur, @paye...</td>\n",
       "    </tr>\n",
       "  </tbody>\n",
       "</table>\n",
       "</div>"
      ],
      "text/plain": [
       "                                               tweet label  \\\n",
       "1  @MirkoPlsll @IanisRondeau ouais.. un chef d'oe...     0   \n",
       "2       @MamzelleMNa Une trÃ¨s humble femme! #Ironie     0   \n",
       "3  BLOGUE - Â«TsÃ©, la paritÃ© homme-femme...Â» a...     0   \n",
       "4  Je suis une femme matÃ©rialiste et superficiel...     0   \n",
       "5  Mise en ligne de mon article sur @PayeTaShnek ...     0   \n",
       "\n",
       "                                       lowered_tweet  \\\n",
       "1  @mirkoplsll @ianisrondeau ouais.. un chef d'oe...   \n",
       "2       @mamzellemna une trã¨s humble femme! #ironie   \n",
       "3  blogue - â«tsã©, la paritã© homme-femme...â» a...   \n",
       "4  je suis une femme matã©rialiste et superficiel...   \n",
       "5  mise en ligne de mon article sur @payetashnek ...   \n",
       "\n",
       "                                     tokenized_tweet  \n",
       "1  [@mirkoplsll, @ianisrondeau, ouais, .., un, ch...  \n",
       "2  [@mamzellemna, une, trã, ¨, s, humble, femme, ...  \n",
       "3  [blogue, -, â, «, tsã, ©, ,, la, paritã, ©, ho...  \n",
       "4  [je, suis, une, femme, matã, ©, rialiste, et, ...  \n",
       "5  [mise, en, ligne, de, mon, article, sur, @paye...  "
      ]
     },
     "execution_count": 18,
     "metadata": {},
     "output_type": "execute_result"
    }
   ],
   "source": [
    "tokenizer = nltk.TweetTokenizer()\n",
    "# keeps hashtags together, subset of word_tokenize\n",
    "\n",
    "df['tokenized_tweet'] = df['lowered_tweet'].apply(tokenizer.tokenize)\n",
    "df.head()\n",
    "\n",
    "# https://stackoverflow.com/questions/48363461/passing-a-pandas-dataframe-column-to-an-nltk-tokenizer\n",
    "#df['tweet'] = df['tweet'].apply(nltk.TweetTokenizer)\n",
    "# this overwrote what i did"
   ]
  },
  {
   "cell_type": "code",
   "execution_count": 19,
   "metadata": {},
   "outputs": [],
   "source": [
    "# df['tweet'] = df['tweet'].astype(pd.StringDtype())\n",
    "\n",
    "# df['tokenized_tweet_joined'] = df['tokenized_tweet'].astype(str)\n",
    "# # must feed str into vectorizer\n",
    "\n",
    "def rejoin_string(a_list):\n",
    "    return ' '.join(a_list)\n",
    "\n",
    "\n",
    "df['tokenized_tweet_joined'] = df['tokenized_tweet'].apply(rejoin_string)\n",
    "# rejoins into string, that's been tokenized\n",
    "# holds spaces between tokens but now altogether"
   ]
  },
  {
   "cell_type": "code",
   "execution_count": 20,
   "metadata": {},
   "outputs": [
    {
     "data": {
      "text/html": [
       "<div>\n",
       "<style scoped>\n",
       "    .dataframe tbody tr th:only-of-type {\n",
       "        vertical-align: middle;\n",
       "    }\n",
       "\n",
       "    .dataframe tbody tr th {\n",
       "        vertical-align: top;\n",
       "    }\n",
       "\n",
       "    .dataframe thead th {\n",
       "        text-align: right;\n",
       "    }\n",
       "</style>\n",
       "<table border=\"1\" class=\"dataframe\">\n",
       "  <thead>\n",
       "    <tr style=\"text-align: right;\">\n",
       "      <th></th>\n",
       "      <th>tweet</th>\n",
       "      <th>label</th>\n",
       "      <th>lowered_tweet</th>\n",
       "      <th>tokenized_tweet</th>\n",
       "      <th>tokenized_tweet_joined</th>\n",
       "    </tr>\n",
       "  </thead>\n",
       "  <tbody>\n",
       "    <tr>\n",
       "      <th>1</th>\n",
       "      <td>@MirkoPlsll @IanisRondeau ouais.. un chef d'oe...</td>\n",
       "      <td>0</td>\n",
       "      <td>@mirkoplsll @ianisrondeau ouais.. un chef d'oe...</td>\n",
       "      <td>[@mirkoplsll, @ianisrondeau, ouais, .., un, ch...</td>\n",
       "      <td>@mirkoplsll @ianisrondeau ouais .. un chef d'o...</td>\n",
       "    </tr>\n",
       "    <tr>\n",
       "      <th>2</th>\n",
       "      <td>@MamzelleMNa Une trÃ¨s humble femme! #Ironie</td>\n",
       "      <td>0</td>\n",
       "      <td>@mamzellemna une trã¨s humble femme! #ironie</td>\n",
       "      <td>[@mamzellemna, une, trã, ¨, s, humble, femme, ...</td>\n",
       "      <td>@mamzellemna une trã ¨ s humble femme ! #ironie</td>\n",
       "    </tr>\n",
       "    <tr>\n",
       "      <th>3</th>\n",
       "      <td>BLOGUE - Â«TsÃ©, la paritÃ© homme-femme...Â» a...</td>\n",
       "      <td>0</td>\n",
       "      <td>blogue - â«tsã©, la paritã© homme-femme...â» a...</td>\n",
       "      <td>[blogue, -, â, «, tsã, ©, ,, la, paritã, ©, ho...</td>\n",
       "      <td>blogue - â « tsã © , la paritã © homme-femme ....</td>\n",
       "    </tr>\n",
       "    <tr>\n",
       "      <th>4</th>\n",
       "      <td>Je suis une femme matÃ©rialiste et superficiel...</td>\n",
       "      <td>0</td>\n",
       "      <td>je suis une femme matã©rialiste et superficiel...</td>\n",
       "      <td>[je, suis, une, femme, matã, ©, rialiste, et, ...</td>\n",
       "      <td>je suis une femme matã © rialiste et superfici...</td>\n",
       "    </tr>\n",
       "    <tr>\n",
       "      <th>5</th>\n",
       "      <td>Mise en ligne de mon article sur @PayeTaShnek ...</td>\n",
       "      <td>0</td>\n",
       "      <td>mise en ligne de mon article sur @payetashnek ...</td>\n",
       "      <td>[mise, en, ligne, de, mon, article, sur, @paye...</td>\n",
       "      <td>mise en ligne de mon article sur @payetashnek ...</td>\n",
       "    </tr>\n",
       "  </tbody>\n",
       "</table>\n",
       "</div>"
      ],
      "text/plain": [
       "                                               tweet label  \\\n",
       "1  @MirkoPlsll @IanisRondeau ouais.. un chef d'oe...     0   \n",
       "2       @MamzelleMNa Une trÃ¨s humble femme! #Ironie     0   \n",
       "3  BLOGUE - Â«TsÃ©, la paritÃ© homme-femme...Â» a...     0   \n",
       "4  Je suis une femme matÃ©rialiste et superficiel...     0   \n",
       "5  Mise en ligne de mon article sur @PayeTaShnek ...     0   \n",
       "\n",
       "                                       lowered_tweet  \\\n",
       "1  @mirkoplsll @ianisrondeau ouais.. un chef d'oe...   \n",
       "2       @mamzellemna une trã¨s humble femme! #ironie   \n",
       "3  blogue - â«tsã©, la paritã© homme-femme...â» a...   \n",
       "4  je suis une femme matã©rialiste et superficiel...   \n",
       "5  mise en ligne de mon article sur @payetashnek ...   \n",
       "\n",
       "                                     tokenized_tweet  \\\n",
       "1  [@mirkoplsll, @ianisrondeau, ouais, .., un, ch...   \n",
       "2  [@mamzellemna, une, trã, ¨, s, humble, femme, ...   \n",
       "3  [blogue, -, â, «, tsã, ©, ,, la, paritã, ©, ho...   \n",
       "4  [je, suis, une, femme, matã, ©, rialiste, et, ...   \n",
       "5  [mise, en, ligne, de, mon, article, sur, @paye...   \n",
       "\n",
       "                              tokenized_tweet_joined  \n",
       "1  @mirkoplsll @ianisrondeau ouais .. un chef d'o...  \n",
       "2    @mamzellemna une trã ¨ s humble femme ! #ironie  \n",
       "3  blogue - â « tsã © , la paritã © homme-femme ....  \n",
       "4  je suis une femme matã © rialiste et superfici...  \n",
       "5  mise en ligne de mon article sur @payetashnek ...  "
      ]
     },
     "execution_count": 20,
     "metadata": {},
     "output_type": "execute_result"
    }
   ],
   "source": [
    "df.head()"
   ]
  },
  {
   "cell_type": "code",
   "execution_count": 21,
   "metadata": {},
   "outputs": [],
   "source": [
    "X = df['tokenized_tweet_joined'] # list of tokenized tweets\n",
    "y = df['label'] # list of labels of tweets"
   ]
  },
  {
   "cell_type": "code",
   "execution_count": 22,
   "metadata": {},
   "outputs": [],
   "source": [
    "# split X and y into training and testing sets\n",
    "# randomizes data in splitting\n",
    "from sklearn.model_selection import train_test_split\n",
    "\n",
    "X_train, X_test, y_train, y_test = train_test_split(X, y, test_size = 0.2, random_state = 0)\n",
    "# indicating random state ensures data split will be same\n",
    "#https://stackoverflow.com/questions/28064634/random-state-pseudo-random-number-in-scikit-learn"
   ]
  },
  {
   "cell_type": "code",
   "execution_count": 23,
   "metadata": {},
   "outputs": [
    {
     "data": {
      "text/plain": [
       "((7464,), (1866,))"
      ]
     },
     "execution_count": 23,
     "metadata": {},
     "output_type": "execute_result"
    }
   ],
   "source": [
    "# check the shape of X_train and X_test\n",
    "\n",
    "X_train.shape, X_test.shape\n",
    "# ((7464,), (1866,))"
   ]
  },
  {
   "cell_type": "code",
   "execution_count": 24,
   "metadata": {},
   "outputs": [
    {
     "data": {
      "text/plain": [
       "((7464,), (1866,))"
      ]
     },
     "execution_count": 24,
     "metadata": {},
     "output_type": "execute_result"
    }
   ],
   "source": [
    "y_train.shape, y_test.shape\n",
    "#((7464,), (1866,))"
   ]
  },
  {
   "cell_type": "code",
   "execution_count": 25,
   "metadata": {},
   "outputs": [
    {
     "data": {
      "text/plain": [
       "dtype('O')"
      ]
     },
     "execution_count": 25,
     "metadata": {},
     "output_type": "execute_result"
    }
   ],
   "source": [
    "# check data types in X_train\n",
    "\n",
    "X_train.dtypes"
   ]
  },
  {
   "cell_type": "code",
   "execution_count": 26,
   "metadata": {},
   "outputs": [],
   "source": [
    "# stopwords_fr = nltk.corpus.stopwords.words(\"french\")\n",
    "# https://stackoverflow.com/questions/57359982/remove-stopwords-in-french-and-english-in-tfidfvectorizer"
   ]
  },
  {
   "cell_type": "code",
   "execution_count": 27,
   "metadata": {},
   "outputs": [],
   "source": [
    "from sklearn.feature_extraction.text import TfidfVectorizer\n",
    "\n",
    "# Initialize our vectorizer (featurizer, turning text to numbers)\n",
    "#only looking at numbers produced, creating features\n",
    "# takes each tweet turning into feature vector, each column corresponds to word\n",
    "vectorizer = TfidfVectorizer(ngram_range=(1,3))\n",
    "\n",
    "# fit vectorizer w/ train data (training data)\n",
    "# This makes your vocab matrix, learns words in vocab\n",
    "vectorizer.fit(X_train)\n",
    "\n",
    "# This transforms your documents into vectors (numbers).\n",
    "X_train = vectorizer.transform(X_train)\n",
    "X_test = vectorizer.transform(X_test)"
   ]
  },
  {
   "cell_type": "code",
   "execution_count": 28,
   "metadata": {},
   "outputs": [],
   "source": [
    "# function to test and evaluate models. \n",
    "from sklearn import metrics\n",
    "from sklearn.metrics import accuracy_score, f1_score\n",
    "from sklearn.metrics import classification_report\n",
    "from sklearn.metrics import plot_confusion_matrix\n",
    "from sklearn.metrics import confusion_matrix\n",
    "\n",
    "# For plotting\n",
    "import matplotlib.pyplot as plt\n",
    "\n",
    "def build_and_eval_model(model, X, y):\n",
    "    print(\"Running report for model:\", model) \n",
    "    \n",
    "    # Fit our model.\n",
    "    model.fit(X_train, y_train)\n",
    "    \n",
    "    \n",
    "    # predicting results based on testing data\n",
    "    y_pred = model.predict(X_test)\n",
    "    # Make predicted probabilites of our testing data\n",
    "#     y_pred_proba = model.predict_proba(X_test)\n",
    "# https://stackoverflow.com/questions/15111408/how-does-sklearn-svm-svcs-function-predict-proba-work-internally\n",
    "\n",
    "    # Get the evaluation metrics \n",
    "    print('Model accuracy score: {0:0.4f}'. format(accuracy_score(y_test, y_pred)))\n",
    "    # y_test are true class labels and y_pred are predicted class labels in test-set, don't use train data\n",
    "    \n",
    "    # f1-score is always lower than accuracy measures, they embed precision and recall into their computation\n",
    "#     print('F1 Score: %.4f' % f1_score(y_test, y_pred, pos_label='0'))\n",
    "    # https://datascience.stackexchange.com/questions/54436/valueerror-pos-label-1-is-not-a-valid-label-arrayn-y-dtype-u1\n",
    "    # data not much, low f1score; cross fold validation to generate data articificially\n",
    "    f1score = f1_score(y_test, y_pred, average='macro')\n",
    "    print('macro F-1 score : {}'.format(np.round(f1score,5)))\n",
    "    # macro avg f1score = unweighted mean of all the per-class F1 scores, treats all classes equally important\n",
    "    # weighted-averaged F1 score is calculated by taking the mean of all per-class F1 scores while considering each class’s support\n",
    "    ## ‘weight’ refers to proportion of each class’s support relative to the sum of all support values\n",
    "    # https://towardsdatascience.com/micro-macro-weighted-averages-of-f1-score-clearly-explained-b603420b292f\n",
    "    \n",
    "    # compare the train-set and test-set accuracy to check for overfitting \n",
    "    y_pred_train = model.predict(X_train) \n",
    "    # overlearned training data = training accuracy higher (but not over so b/c not 99)\n",
    "    ## close enough to \"possibly\" overfit but not dramatic difference --> trust model accuracy score (minor point)\n",
    "    print('Training set accuracy score: {0:0.4f}'. format(accuracy_score(y_train, y_pred_train)))\n",
    "    print('Test set accuracy score: {:.4f}'.format(model.score(X_test, y_test)))\n",
    "\n",
    "    # Print the classification report. \n",
    "    print(metrics.classification_report(y_test, y_pred))\n",
    "    \n",
    "        \n",
    "    # Plot the confusion matrix\n",
    "    fig, ax = plt.subplots(figsize=(13,13))\n",
    "    \n",
    "    metrics.plot_confusion_matrix(estimator=model, \n",
    "                                  X=X_test, \n",
    "                                  y_true=y_test, \n",
    "                                  ax=ax)\n",
    "    \n",
    "    cm = confusion_matrix(y_test, y_pred)\n",
    "    print('Confusion matrix\\n\\n', cm)\n",
    "    print('\\nTrue Positives(TP) = ', cm[0,0])\n",
    "    print('\\nTrue Negatives(TN) = ', cm[1,1])\n",
    "    print('\\nFalse Positives(FP) = ', cm[0,1])\n",
    "    print('\\nFalse Negatives(FN) = ', cm[1,0])\n",
    "\n",
    "#     # visualize confusion matrix with seaborn heatmap\n",
    "#     cm_matrix = pd.DataFrame(data=cm, columns=['Actual Positive:1', 'Actual Negative:0'], \n",
    "#                                  index=['Predict Positive:1', 'Predict Negative:0'])\n",
    "#     sns.heatmap(cm_matrix, annot=True, fmt='d', cmap='YlGnBu')\n",
    "    \n",
    "    \n",
    "    # print classification accuracy, same as test set score & model accuracy score\n",
    "    classification_accuracy = (cm[0,0] + cm[1,1]) / float(cm[0,0] + cm[1,1] + cm[0,1] + cm[1,0])\n",
    "    print('Classification accuracy : {0:0.4f}'.format(classification_accuracy))\n",
    "    \n",
    "    # print classification error\n",
    "    classification_error = (cm[0,1] + cm[1,0]) / float(cm[0,0] + cm[1,1] + cm[0,1] + cm[1,0])\n",
    "    print('Classification error : {0:0.4f}'.format(classification_error))\n",
    "\n",
    "    # Return the fitted model. \n",
    "    return model\n"
   ]
  },
  {
   "cell_type": "code",
   "execution_count": 29,
   "metadata": {},
   "outputs": [
    {
     "name": "stdout",
     "output_type": "stream",
     "text": [
      "Running report for model: LogisticRegression()\n",
      "Model accuracy score: 0.7728\n",
      "macro F-1 score : 0.71293\n",
      "Training set accuracy score: 0.8792\n",
      "Test set accuracy score: 0.7728\n",
      "              precision    recall  f1-score   support\n",
      "\n",
      "           0       0.80      0.90      0.84      1278\n",
      "           1       0.69      0.50      0.58       588\n",
      "\n",
      "    accuracy                           0.77      1866\n",
      "   macro avg       0.74      0.70      0.71      1866\n",
      "weighted avg       0.76      0.77      0.76      1866\n",
      "\n",
      "Confusion matrix\n",
      "\n",
      " [[1147  131]\n",
      " [ 293  295]]\n",
      "\n",
      "True Positives(TP) =  1147\n",
      "\n",
      "True Negatives(TN) =  295\n",
      "\n",
      "False Positives(FP) =  131\n",
      "\n",
      "False Negatives(FN) =  293\n",
      "Classification accuracy : 0.7728\n",
      "Classification error : 0.2272\n"
     ]
    },
    {
     "data": {
      "text/plain": [
       "LogisticRegression()"
      ]
     },
     "execution_count": 29,
     "metadata": {},
     "output_type": "execute_result"
    },
    {
     "data": {
      "image/png": "[encoded data removed]",
      "text/plain": [
       "<Figure size 936x936 with 2 Axes>"
      ]
     },
     "metadata": {
      "needs_background": "light"
     },
     "output_type": "display_data"
    }
   ],
   "source": [
    "from sklearn.linear_model import LogisticRegression\n",
    "\n",
    "lr = LogisticRegression()\n",
    "build_and_eval_model(lr, X, y)"
   ]
  },
  {
   "cell_type": "code",
   "execution_count": 30,
   "metadata": {},
   "outputs": [
    {
     "name": "stdout",
     "output_type": "stream",
     "text": [
      "Running report for model: LinearSVC()\n",
      "Model accuracy score: 0.7964\n",
      "macro F-1 score : 0.76823\n",
      "Training set accuracy score: 0.9918\n",
      "Test set accuracy score: 0.7964\n",
      "              precision    recall  f1-score   support\n",
      "\n",
      "           0       0.86      0.84      0.85      1278\n",
      "           1       0.67      0.71      0.69       588\n",
      "\n",
      "    accuracy                           0.80      1866\n",
      "   macro avg       0.76      0.77      0.77      1866\n",
      "weighted avg       0.80      0.80      0.80      1866\n",
      "\n",
      "Confusion matrix\n",
      "\n",
      " [[1068  210]\n",
      " [ 170  418]]\n",
      "\n",
      "True Positives(TP) =  1068\n",
      "\n",
      "True Negatives(TN) =  418\n",
      "\n",
      "False Positives(FP) =  210\n",
      "\n",
      "False Negatives(FN) =  170\n",
      "Classification accuracy : 0.7964\n",
      "Classification error : 0.2036\n"
     ]
    },
    {
     "data": {
      "text/plain": [
       "LinearSVC()"
      ]
     },
     "execution_count": 30,
     "metadata": {},
     "output_type": "execute_result"
    },
    {
     "data": {
      "image/png": "[encoded data removed]",
      "text/plain": [
       "<Figure size 936x936 with 2 Axes>"
      ]
     },
     "metadata": {
      "needs_background": "light"
     },
     "output_type": "display_data"
    }
   ],
   "source": [
    "from sklearn import svm\n",
    "\n",
    "lsvc = svm.LinearSVC()\n",
    "build_and_eval_model(lsvc, X, y)\n",
    "# class is imbalanced but not a lot of data is impacting 0 detection better"
   ]
  },
  {
   "cell_type": "code",
   "execution_count": 31,
   "metadata": {},
   "outputs": [
    {
     "name": "stdout",
     "output_type": "stream",
     "text": [
      "Running report for model: MultinomialNB(alpha=0.05)\n",
      "Model accuracy score: 0.7792\n",
      "macro F-1 score : 0.73418\n",
      "Training set accuracy score: 0.9910\n",
      "Test set accuracy score: 0.7792\n",
      "              precision    recall  f1-score   support\n",
      "\n",
      "           0       0.82      0.87      0.84      1278\n",
      "           1       0.67      0.58      0.62       588\n",
      "\n",
      "    accuracy                           0.78      1866\n",
      "   macro avg       0.75      0.73      0.73      1866\n",
      "weighted avg       0.77      0.78      0.77      1866\n",
      "\n",
      "Confusion matrix\n",
      "\n",
      " [[1111  167]\n",
      " [ 245  343]]\n",
      "\n",
      "True Positives(TP) =  1111\n",
      "\n",
      "True Negatives(TN) =  343\n",
      "\n",
      "False Positives(FP) =  167\n",
      "\n",
      "False Negatives(FN) =  245\n",
      "Classification accuracy : 0.7792\n",
      "Classification error : 0.2208\n"
     ]
    },
    {
     "data": {
      "text/plain": [
       "MultinomialNB(alpha=0.05)"
      ]
     },
     "execution_count": 31,
     "metadata": {},
     "output_type": "execute_result"
    },
    {
     "data": {
      "image/png": "[encoded data removed]",
      "text/plain": [
       "<Figure size 936x936 with 2 Axes>"
      ]
     },
     "metadata": {
      "needs_background": "light"
     },
     "output_type": "display_data"
    }
   ],
   "source": [
    "mnb = MultinomialNB(alpha=.05)\n",
    "#https://stackoverflow.com/questions/52319703/naive-bayes-accuracy-increasing-as-increasing-in-the-alpha-value\n",
    "build_and_eval_model(mnb, X, y)"
   ]
  },
  {
   "cell_type": "code",
   "execution_count": 32,
   "metadata": {},
   "outputs": [
    {
     "name": "stdout",
     "output_type": "stream",
     "text": [
      "Running report for model: SVC()\n",
      "Model accuracy score: 0.7808\n",
      "macro F-1 score : 0.7194\n",
      "Training set accuracy score: 0.9902\n",
      "Test set accuracy score: 0.7808\n",
      "              precision    recall  f1-score   support\n",
      "\n",
      "           0       0.80      0.91      0.85      1278\n",
      "           1       0.72      0.50      0.59       588\n",
      "\n",
      "    accuracy                           0.78      1866\n",
      "   macro avg       0.76      0.70      0.72      1866\n",
      "weighted avg       0.77      0.78      0.77      1866\n",
      "\n",
      "Confusion matrix\n",
      "\n",
      " [[1165  113]\n",
      " [ 296  292]]\n",
      "\n",
      "True Positives(TP) =  1165\n",
      "\n",
      "True Negatives(TN) =  292\n",
      "\n",
      "False Positives(FP) =  113\n",
      "\n",
      "False Negatives(FN) =  296\n",
      "Classification accuracy : 0.7808\n",
      "Classification error : 0.2192\n"
     ]
    },
    {
     "data": {
      "text/plain": [
       "SVC()"
      ]
     },
     "execution_count": 32,
     "metadata": {},
     "output_type": "execute_result"
    },
    {
     "data": {
      "image/png": "[encoded data removed]",
      "text/plain": [
       "<Figure size 936x936 with 2 Axes>"
      ]
     },
     "metadata": {
      "needs_background": "light"
     },
     "output_type": "display_data"
    }
   ],
   "source": [
    "svc = svm.SVC()\n",
    "build_and_eval_model(svc, X, y)"
   ]
  },
  {
   "cell_type": "code",
   "execution_count": 33,
   "metadata": {},
   "outputs": [
    {
     "name": "stdout",
     "output_type": "stream",
     "text": [
      "Running report for model: RandomForestClassifier()\n",
      "Model accuracy score: 0.7481\n",
      "macro F-1 score : 0.62812\n",
      "Training set accuracy score: 0.9918\n",
      "Test set accuracy score: 0.7481\n",
      "              precision    recall  f1-score   support\n",
      "\n",
      "           0       0.75      0.96      0.84      1278\n",
      "           1       0.77      0.29      0.42       588\n",
      "\n",
      "    accuracy                           0.75      1866\n",
      "   macro avg       0.76      0.62      0.63      1866\n",
      "weighted avg       0.75      0.75      0.71      1866\n",
      "\n",
      "Confusion matrix\n",
      "\n",
      " [[1228   50]\n",
      " [ 420  168]]\n",
      "\n",
      "True Positives(TP) =  1228\n",
      "\n",
      "True Negatives(TN) =  168\n",
      "\n",
      "False Positives(FP) =  50\n",
      "\n",
      "False Negatives(FN) =  420\n",
      "Classification accuracy : 0.7481\n",
      "Classification error : 0.2519\n"
     ]
    },
    {
     "data": {
      "text/plain": [
       "RandomForestClassifier()"
      ]
     },
     "execution_count": 33,
     "metadata": {},
     "output_type": "execute_result"
    },
    {
     "data": {
      "image/png": "[encoded data removed]",
      "text/plain": [
       "<Figure size 936x936 with 2 Axes>"
      ]
     },
     "metadata": {
      "needs_background": "light"
     },
     "output_type": "display_data"
    }
   ],
   "source": [
    "from sklearn.ensemble import RandomForestClassifier\n",
    "rf = RandomForestClassifier()\n",
    "build_and_eval_model(rf, X, y)"
   ]
  },
  {
   "cell_type": "code",
   "execution_count": 34,
   "metadata": {},
   "outputs": [
    {
     "name": "stdout",
     "output_type": "stream",
     "text": [
      "Running report for model: DecisionTreeClassifier(random_state=0)\n",
      "Model accuracy score: 0.7235\n",
      "macro F-1 score : 0.66743\n",
      "Training set accuracy score: 0.9918\n",
      "Test set accuracy score: 0.7235\n",
      "              precision    recall  f1-score   support\n",
      "\n",
      "           0       0.78      0.83      0.80      1278\n",
      "           1       0.57      0.50      0.53       588\n",
      "\n",
      "    accuracy                           0.72      1866\n",
      "   macro avg       0.68      0.66      0.67      1866\n",
      "weighted avg       0.71      0.72      0.72      1866\n",
      "\n",
      "Confusion matrix\n",
      "\n",
      " [[1058  220]\n",
      " [ 296  292]]\n",
      "\n",
      "True Positives(TP) =  1058\n",
      "\n",
      "True Negatives(TN) =  292\n",
      "\n",
      "False Positives(FP) =  220\n",
      "\n",
      "False Negatives(FN) =  296\n",
      "Classification accuracy : 0.7235\n",
      "Classification error : 0.2765\n"
     ]
    },
    {
     "data": {
      "text/plain": [
       "DecisionTreeClassifier(random_state=0)"
      ]
     },
     "execution_count": 34,
     "metadata": {},
     "output_type": "execute_result"
    },
    {
     "data": {
      "image/png": "[encoded data removed]",
      "text/plain": [
       "<Figure size 936x936 with 2 Axes>"
      ]
     },
     "metadata": {
      "needs_background": "light"
     },
     "output_type": "display_data"
    }
   ],
   "source": [
    "from sklearn.tree import DecisionTreeClassifier\n",
    "dt = DecisionTreeClassifier(random_state=0)\n",
    "build_and_eval_model(dt, X, y)"
   ]
  }
 ],
 "metadata": {
  "colab": {
   "collapsed_sections": [],
   "include_colab_link": true,
   "provenance": []
  },
  "kernelspec": {
   "display_name": "Python 3 (ipykernel)",
   "language": "python",
   "name": "python3"
  },
  "language_info": {
   "codemirror_mode": {
    "name": "ipython",
    "version": 3
   },
   "file_extension": ".py",
   "mimetype": "text/x-python",
   "name": "python",
   "nbconvert_exporter": "python",
   "pygments_lexer": "ipython3",
   "version": "3.9.7"
  }
 },
 "nbformat": 4,
 "nbformat_minor": 1
}
