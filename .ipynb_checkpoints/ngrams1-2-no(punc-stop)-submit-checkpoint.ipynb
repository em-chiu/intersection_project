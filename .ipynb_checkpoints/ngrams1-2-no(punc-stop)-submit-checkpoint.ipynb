{
 "cells": [
  {
   "cell_type": "markdown",
   "metadata": {
    "colab_type": "text",
    "id": "view-in-github"
   },
   "source": [
    "<a href=\"https://colab.research.google.com/github/em-chiu/intersection_project/blob/main/EC%20Classifier.ipynb\" target=\"_parent\"><img src=\"https://colab.research.google.com/assets/colab-badge.svg\" alt=\"Open In Colab\"/></a>"
   ]
  },
  {
   "cell_type": "code",
   "execution_count": 1,
   "metadata": {
    "colab": {
     "base_uri": "https://localhost:8080/"
    },
    "id": "DSgFvHzhSPNK",
    "outputId": "fe6a4603-759f-483e-b192-e891f58f83e0"
   },
   "outputs": [
    {
     "name": "stderr",
     "output_type": "stream",
     "text": [
      "[nltk_data] Downloading package stopwords to\n",
      "[nltk_data]     /Users/emilychiu/nltk_data...\n",
      "[nltk_data]   Package stopwords is already up-to-date!\n",
      "[nltk_data] Downloading package punkt to /Users/emilychiu/nltk_data...\n",
      "[nltk_data]   Package punkt is already up-to-date!\n",
      "[nltk_data] Downloading package averaged_perceptron_tagger to\n",
      "[nltk_data]     /Users/emilychiu/nltk_data...\n",
      "[nltk_data]   Package averaged_perceptron_tagger is already up-to-\n",
      "[nltk_data]       date!\n"
     ]
    }
   ],
   "source": [
    "import nltk\n",
    "nltk.download('stopwords')\n",
    "nltk.download('punkt')\n",
    "import urllib.request\n",
    "from nltk.corpus import stopwords\n",
    "from nltk.tokenize import TweetTokenizer\n",
    "import re\n",
    "import numpy as np\n",
    "from collections import Counter\n",
    "from sklearn import preprocessing\n",
    "import string\n",
    "from sklearn.naive_bayes import MultinomialNB\n",
    "from sklearn.model_selection import cross_val_score\n",
    "\n",
    "import pandas as pd # data processing\n",
    "import csv\n",
    "import sys\n",
    "import unidecode\n",
    "import seaborn as sns"
   ]
  },
  {
   "cell_type": "code",
   "execution_count": 2,
   "metadata": {},
   "outputs": [],
   "source": [
    "# load the data to df, try1 works\n",
    "df = pd.read_csv('FTR_labels_copy.csv', header=None, encoding = \"ISO-8859-1\")\\\n",
    "        .drop(0, axis=1)\\\n",
    "        .rename(columns={1: 'tweet'})"
   ]
  },
  {
   "cell_type": "code",
   "execution_count": 3,
   "metadata": {},
   "outputs": [
    {
     "data": {
      "text/html": [
       "<div>\n",
       "<style scoped>\n",
       "    .dataframe tbody tr th:only-of-type {\n",
       "        vertical-align: middle;\n",
       "    }\n",
       "\n",
       "    .dataframe tbody tr th {\n",
       "        vertical-align: top;\n",
       "    }\n",
       "\n",
       "    .dataframe thead th {\n",
       "        text-align: right;\n",
       "    }\n",
       "</style>\n",
       "<table border=\"1\" class=\"dataframe\">\n",
       "  <thead>\n",
       "    <tr style=\"text-align: right;\">\n",
       "      <th></th>\n",
       "      <th>tweet</th>\n",
       "      <th>2</th>\n",
       "    </tr>\n",
       "  </thead>\n",
       "  <tbody>\n",
       "    <tr>\n",
       "      <th>0</th>\n",
       "      <td>tweet</td>\n",
       "      <td>label</td>\n",
       "    </tr>\n",
       "    <tr>\n",
       "      <th>1</th>\n",
       "      <td>Elle ne devait pas dÃ©gager la nazi ??? https:...</td>\n",
       "      <td>1</td>\n",
       "    </tr>\n",
       "    <tr>\n",
       "      <th>2</th>\n",
       "      <td>je dois faire un oral en anglais sur Hitler et...</td>\n",
       "      <td>0</td>\n",
       "    </tr>\n",
       "    <tr>\n",
       "      <th>3</th>\n",
       "      <td>@ambrassmoi_ A Ã§a ð¤ de ressembler Ã  la cr...</td>\n",
       "      <td>0</td>\n",
       "    </tr>\n",
       "    <tr>\n",
       "      <th>4</th>\n",
       "      <td>\"Par curiositÃ©, jâai voulu Ã©couter les dis...</td>\n",
       "      <td>0</td>\n",
       "    </tr>\n",
       "  </tbody>\n",
       "</table>\n",
       "</div>"
      ],
      "text/plain": [
       "                                               tweet      2\n",
       "0                                              tweet  label\n",
       "1  Elle ne devait pas dÃ©gager la nazi ??? https:...      1\n",
       "2  je dois faire un oral en anglais sur Hitler et...      0\n",
       "3  @ambrassmoi_ A Ã§a ð¤ de ressembler Ã  la cr...      0\n",
       "4  \"Par curiositÃ©, jâai voulu Ã©couter les dis...      0"
      ]
     },
     "execution_count": 3,
     "metadata": {},
     "output_type": "execute_result"
    }
   ],
   "source": [
    "# preview data\n",
    "df.head()"
   ]
  },
  {
   "cell_type": "code",
   "execution_count": 4,
   "metadata": {},
   "outputs": [],
   "source": [
    "# Drop first row \n",
    "# by selecting all rows from first row onwards\n",
    "df = df.iloc[1: , :]"
   ]
  },
  {
   "cell_type": "code",
   "execution_count": 5,
   "metadata": {},
   "outputs": [
    {
     "data": {
      "text/plain": [
       "(2856, 2)"
      ]
     },
     "execution_count": 5,
     "metadata": {},
     "output_type": "execute_result"
    }
   ],
   "source": [
    "# view dimensions of dataset\n",
    "df.shape\n",
    "# 2857 instances and 2 attributes in dataset"
   ]
  },
  {
   "cell_type": "code",
   "execution_count": 6,
   "metadata": {},
   "outputs": [
    {
     "data": {
      "text/plain": [
       "Index(['tweet', 'label'], dtype='object')"
      ]
     },
     "execution_count": 6,
     "metadata": {},
     "output_type": "execute_result"
    }
   ],
   "source": [
    "# Rename column names\n",
    "col_names = ['tweet', 'label']\n",
    "df.columns = col_names\n",
    "df.columns"
   ]
  },
  {
   "cell_type": "code",
   "execution_count": 7,
   "metadata": {},
   "outputs": [
    {
     "data": {
      "text/html": [
       "<div>\n",
       "<style scoped>\n",
       "    .dataframe tbody tr th:only-of-type {\n",
       "        vertical-align: middle;\n",
       "    }\n",
       "\n",
       "    .dataframe tbody tr th {\n",
       "        vertical-align: top;\n",
       "    }\n",
       "\n",
       "    .dataframe thead th {\n",
       "        text-align: right;\n",
       "    }\n",
       "</style>\n",
       "<table border=\"1\" class=\"dataframe\">\n",
       "  <thead>\n",
       "    <tr style=\"text-align: right;\">\n",
       "      <th></th>\n",
       "      <th>tweet</th>\n",
       "      <th>label</th>\n",
       "    </tr>\n",
       "  </thead>\n",
       "  <tbody>\n",
       "    <tr>\n",
       "      <th>1</th>\n",
       "      <td>Elle ne devait pas dÃ©gager la nazi ??? https:...</td>\n",
       "      <td>1</td>\n",
       "    </tr>\n",
       "    <tr>\n",
       "      <th>2</th>\n",
       "      <td>je dois faire un oral en anglais sur Hitler et...</td>\n",
       "      <td>0</td>\n",
       "    </tr>\n",
       "    <tr>\n",
       "      <th>3</th>\n",
       "      <td>@ambrassmoi_ A Ã§a ð¤ de ressembler Ã  la cr...</td>\n",
       "      <td>0</td>\n",
       "    </tr>\n",
       "    <tr>\n",
       "      <th>4</th>\n",
       "      <td>\"Par curiositÃ©, jâai voulu Ã©couter les dis...</td>\n",
       "      <td>0</td>\n",
       "    </tr>\n",
       "    <tr>\n",
       "      <th>5</th>\n",
       "      <td>@tical10 @ExBarcaFan74523 @ConflitsFrance Mdr ...</td>\n",
       "      <td>1</td>\n",
       "    </tr>\n",
       "  </tbody>\n",
       "</table>\n",
       "</div>"
      ],
      "text/plain": [
       "                                               tweet label\n",
       "1  Elle ne devait pas dÃ©gager la nazi ??? https:...     1\n",
       "2  je dois faire un oral en anglais sur Hitler et...     0\n",
       "3  @ambrassmoi_ A Ã§a ð¤ de ressembler Ã  la cr...     0\n",
       "4  \"Par curiositÃ©, jâai voulu Ã©couter les dis...     0\n",
       "5  @tical10 @ExBarcaFan74523 @ConflitsFrance Mdr ...     1"
      ]
     },
     "execution_count": 7,
     "metadata": {},
     "output_type": "execute_result"
    }
   ],
   "source": [
    "# preview after renaming\n",
    "df.head()"
   ]
  },
  {
   "cell_type": "code",
   "execution_count": 8,
   "metadata": {},
   "outputs": [
    {
     "name": "stdout",
     "output_type": "stream",
     "text": [
      "<class 'pandas.core.frame.DataFrame'>\n",
      "RangeIndex: 2856 entries, 1 to 2856\n",
      "Data columns (total 2 columns):\n",
      " #   Column  Non-Null Count  Dtype \n",
      "---  ------  --------------  ----- \n",
      " 0   tweet   2856 non-null   object\n",
      " 1   label   2856 non-null   object\n",
      "dtypes: object(2)\n",
      "memory usage: 44.8+ KB\n"
     ]
    }
   ],
   "source": [
    "# summary of data\n",
    "df.info()\n",
    "# no missing data\n",
    "# Categorical variables have data type object"
   ]
  },
  {
   "cell_type": "code",
   "execution_count": 9,
   "metadata": {},
   "outputs": [
    {
     "name": "stdout",
     "output_type": "stream",
     "text": [
      "There are 2 categorical variables\n",
      "\n",
      "The categorical variables are :\n",
      "\n",
      " ['tweet', 'label']\n"
     ]
    }
   ],
   "source": [
    "# find categorical variables\n",
    "categorical = [var for var in df.columns if df[var].dtype=='O']\n",
    "\n",
    "print('There are {} categorical variables\\n'.format(len(categorical)))\n",
    "\n",
    "print('The categorical variables are :\\n\\n', categorical)"
   ]
  },
  {
   "cell_type": "code",
   "execution_count": 10,
   "metadata": {},
   "outputs": [
    {
     "data": {
      "text/html": [
       "<div>\n",
       "<style scoped>\n",
       "    .dataframe tbody tr th:only-of-type {\n",
       "        vertical-align: middle;\n",
       "    }\n",
       "\n",
       "    .dataframe tbody tr th {\n",
       "        vertical-align: top;\n",
       "    }\n",
       "\n",
       "    .dataframe thead th {\n",
       "        text-align: right;\n",
       "    }\n",
       "</style>\n",
       "<table border=\"1\" class=\"dataframe\">\n",
       "  <thead>\n",
       "    <tr style=\"text-align: right;\">\n",
       "      <th></th>\n",
       "      <th>tweet</th>\n",
       "      <th>label</th>\n",
       "    </tr>\n",
       "  </thead>\n",
       "  <tbody>\n",
       "    <tr>\n",
       "      <th>1</th>\n",
       "      <td>Elle ne devait pas dÃ©gager la nazi ??? https:...</td>\n",
       "      <td>1</td>\n",
       "    </tr>\n",
       "    <tr>\n",
       "      <th>2</th>\n",
       "      <td>je dois faire un oral en anglais sur Hitler et...</td>\n",
       "      <td>0</td>\n",
       "    </tr>\n",
       "    <tr>\n",
       "      <th>3</th>\n",
       "      <td>@ambrassmoi_ A Ã§a ð¤ de ressembler Ã  la cr...</td>\n",
       "      <td>0</td>\n",
       "    </tr>\n",
       "    <tr>\n",
       "      <th>4</th>\n",
       "      <td>\"Par curiositÃ©, jâai voulu Ã©couter les dis...</td>\n",
       "      <td>0</td>\n",
       "    </tr>\n",
       "    <tr>\n",
       "      <th>5</th>\n",
       "      <td>@tical10 @ExBarcaFan74523 @ConflitsFrance Mdr ...</td>\n",
       "      <td>1</td>\n",
       "    </tr>\n",
       "  </tbody>\n",
       "</table>\n",
       "</div>"
      ],
      "text/plain": [
       "                                               tweet label\n",
       "1  Elle ne devait pas dÃ©gager la nazi ??? https:...     1\n",
       "2  je dois faire un oral en anglais sur Hitler et...     0\n",
       "3  @ambrassmoi_ A Ã§a ð¤ de ressembler Ã  la cr...     0\n",
       "4  \"Par curiositÃ©, jâai voulu Ã©couter les dis...     0\n",
       "5  @tical10 @ExBarcaFan74523 @ConflitsFrance Mdr ...     1"
      ]
     },
     "execution_count": 10,
     "metadata": {},
     "output_type": "execute_result"
    }
   ],
   "source": [
    "# view the categorical variables\n",
    "df[categorical].head()"
   ]
  },
  {
   "cell_type": "code",
   "execution_count": 11,
   "metadata": {},
   "outputs": [
    {
     "data": {
      "text/plain": [
       "tweet    0\n",
       "label    0\n",
       "dtype: int64"
      ]
     },
     "execution_count": 11,
     "metadata": {},
     "output_type": "execute_result"
    }
   ],
   "source": [
    "# check missing values in categorical variables\n",
    "df[categorical].isnull().sum()"
   ]
  },
  {
   "cell_type": "code",
   "execution_count": 12,
   "metadata": {},
   "outputs": [
    {
     "name": "stdout",
     "output_type": "stream",
     "text": [
      "\"0. Moi\\n                                                                                                                                                    4\n",
      "@flo__lfc @leo2saucisson @ActuFoot_ CrÃ¨ve                                                                                                                   2\n",
      "\"ððððð\\n                                                                                                                                      2\n",
      "\"\"\"A Bright Room Called Day\"\", la cinglante leÃ§on d'histoire de Tony Kushner. Ma critique dans Les SoirÃ©es de Paris â¶ï¸Â https://t.co/Ydl1PqJv7AÂ \\n    2\n",
      "\"En ce moment sur LFM #CrÃ¨ve-cÅur#Mauvais Åil et toujours Le Morning sur LFM de 07h Ã  10h du Lundi au Vendredi.\\n                                        2\n",
      "                                                                                                                                                            ..\n",
      "de toutes faÃ§ons, c'est une mascarade. personne n'est mort et le masque sert Ã  rien #nazi #GiletsJaunes                                                    1\n",
      "Ah je crÃ¨ve de froid                                                                                                                                        1\n",
      "@Weatherboy_fr @ButchCoolidge11 @DamienRieu Bah oui câest les franÃ§ais qui ont Ã©lus hitler câest connuâ¦ gÃ©nie !                                     1\n",
      "@mormach Pitoyable cette information dirigÃ©e !!! On en crÃ¨ve !!!                                                                                           1\n",
      "Sal Noir https://t.co/9Sr7f4Mzr5 https://t.co/53F9rBpJsf                                                                                                     1\n",
      "Name: tweet, Length: 2847, dtype: int64\n",
      "0    1929\n",
      "1     927\n",
      "Name: label, dtype: int64\n"
     ]
    }
   ],
   "source": [
    "# view frequency counts of values in categorical variables\n",
    "for var in categorical: \n",
    "    print(df[var].value_counts())\n",
    "\n",
    "# 0        1929\n",
    "# 1         927"
   ]
  },
  {
   "cell_type": "code",
   "execution_count": 13,
   "metadata": {},
   "outputs": [
    {
     "name": "stdout",
     "output_type": "stream",
     "text": [
      "\"0. Moi\\n                                                                                                                                                    0.001401\n",
      "@flo__lfc @leo2saucisson @ActuFoot_ CrÃ¨ve                                                                                                                   0.000700\n",
      "\"ððððð\\n                                                                                                                                      0.000700\n",
      "\"\"\"A Bright Room Called Day\"\", la cinglante leÃ§on d'histoire de Tony Kushner. Ma critique dans Les SoirÃ©es de Paris â¶ï¸Â https://t.co/Ydl1PqJv7AÂ \\n    0.000700\n",
      "\"En ce moment sur LFM #CrÃ¨ve-cÅur#Mauvais Åil et toujours Le Morning sur LFM de 07h Ã  10h du Lundi au Vendredi.\\n                                        0.000700\n",
      "                                                                                                                                                               ...   \n",
      "de toutes faÃ§ons, c'est une mascarade. personne n'est mort et le masque sert Ã  rien #nazi #GiletsJaunes                                                    0.000350\n",
      "Ah je crÃ¨ve de froid                                                                                                                                        0.000350\n",
      "@Weatherboy_fr @ButchCoolidge11 @DamienRieu Bah oui câest les franÃ§ais qui ont Ã©lus hitler câest connuâ¦ gÃ©nie !                                     0.000350\n",
      "@mormach Pitoyable cette information dirigÃ©e !!! On en crÃ¨ve !!!                                                                                           0.000350\n",
      "Sal Noir https://t.co/9Sr7f4Mzr5 https://t.co/53F9rBpJsf                                                                                                     0.000350\n",
      "Name: tweet, Length: 2847, dtype: float64\n",
      "0    0.67542\n",
      "1    0.32458\n",
      "Name: label, dtype: float64\n"
     ]
    }
   ],
   "source": [
    "# view frequency distribution of categorical variables\n",
    "for var in categorical:   \n",
    "    print(df[var].value_counts()/float(len(df)))"
   ]
  },
  {
   "cell_type": "code",
   "execution_count": 14,
   "metadata": {},
   "outputs": [
    {
     "data": {
      "text/plain": [
       "0    1929\n",
       "1     927\n",
       "Name: label, dtype: int64"
      ]
     },
     "execution_count": 14,
     "metadata": {},
     "output_type": "execute_result"
    }
   ],
   "source": [
    "# # check frequency distribution of values in label variable\n",
    "df.label.value_counts()"
   ]
  },
  {
   "cell_type": "code",
   "execution_count": 15,
   "metadata": {},
   "outputs": [
    {
     "data": {
      "text/plain": [
       "1       elle ne devait pas dã©gager la nazi ??? https:...\n",
       "2       je dois faire un oral en anglais sur hitler et...\n",
       "3       @ambrassmoi_ a ã§a ð¤ de ressembler ã  la cr...\n",
       "4       \"par curiositã©, jâai voulu ã©couter les dis...\n",
       "5       @tical10 @exbarcafan74523 @conflitsfrance mdr ...\n",
       "                              ...                        \n",
       "2852                           kevin câest un sal noir.\n",
       "2853    bougnoule bamboula sale arabe , elle est belle...\n",
       "2854      @b_mahrezz tu viens de le traiter de sal noir ?\n",
       "2855                     sal noir https://t.co/jraabftel8\n",
       "2856    sal noir https://t.co/9sr7f4mzr5 https://t.co/...\n",
       "Name: lowered_tweet, Length: 2856, dtype: object"
      ]
     },
     "execution_count": 15,
     "metadata": {},
     "output_type": "execute_result"
    }
   ],
   "source": [
    "# Lowercase all words\n",
    "def make_lower(a_string):\n",
    "    return a_string.lower()\n",
    "\n",
    "df['lowered_tweet'] = df['tweet'].apply(make_lower)\n",
    "df['lowered_tweet']"
   ]
  },
  {
   "cell_type": "code",
   "execution_count": 16,
   "metadata": {},
   "outputs": [
    {
     "data": {
      "text/html": [
       "<div>\n",
       "<style scoped>\n",
       "    .dataframe tbody tr th:only-of-type {\n",
       "        vertical-align: middle;\n",
       "    }\n",
       "\n",
       "    .dataframe tbody tr th {\n",
       "        vertical-align: top;\n",
       "    }\n",
       "\n",
       "    .dataframe thead th {\n",
       "        text-align: right;\n",
       "    }\n",
       "</style>\n",
       "<table border=\"1\" class=\"dataframe\">\n",
       "  <thead>\n",
       "    <tr style=\"text-align: right;\">\n",
       "      <th></th>\n",
       "      <th>tweet</th>\n",
       "      <th>label</th>\n",
       "      <th>lowered_tweet</th>\n",
       "      <th>tokenized_tweet</th>\n",
       "    </tr>\n",
       "  </thead>\n",
       "  <tbody>\n",
       "    <tr>\n",
       "      <th>1</th>\n",
       "      <td>Elle ne devait pas dÃ©gager la nazi ??? https:...</td>\n",
       "      <td>1</td>\n",
       "      <td>elle ne devait pas dã©gager la nazi ??? https:...</td>\n",
       "      <td>[elle, ne, devait, pas, dã, ©, gager, la, nazi...</td>\n",
       "    </tr>\n",
       "    <tr>\n",
       "      <th>2</th>\n",
       "      <td>je dois faire un oral en anglais sur Hitler et...</td>\n",
       "      <td>0</td>\n",
       "      <td>je dois faire un oral en anglais sur hitler et...</td>\n",
       "      <td>[je, dois, faire, un, oral, en, anglais, sur, ...</td>\n",
       "    </tr>\n",
       "    <tr>\n",
       "      <th>3</th>\n",
       "      <td>@ambrassmoi_ A Ã§a ð¤ de ressembler Ã  la cr...</td>\n",
       "      <td>0</td>\n",
       "      <td>@ambrassmoi_ a ã§a ð¤ de ressembler ã  la cr...</td>\n",
       "      <td>[@ambrassmoi_, a, ã, §, a, ð, , ¤, , de, res...</td>\n",
       "    </tr>\n",
       "    <tr>\n",
       "      <th>4</th>\n",
       "      <td>\"Par curiositÃ©, jâai voulu Ã©couter les dis...</td>\n",
       "      <td>0</td>\n",
       "      <td>\"par curiositã©, jâai voulu ã©couter les dis...</td>\n",
       "      <td>[\", par, curiositã, ©, ,, jâ, , , ai, voulu,...</td>\n",
       "    </tr>\n",
       "    <tr>\n",
       "      <th>5</th>\n",
       "      <td>@tical10 @ExBarcaFan74523 @ConflitsFrance Mdr ...</td>\n",
       "      <td>1</td>\n",
       "      <td>@tical10 @exbarcafan74523 @conflitsfrance mdr ...</td>\n",
       "      <td>[@tical10, @exbarcafan74523, @conflitsfrance, ...</td>\n",
       "    </tr>\n",
       "  </tbody>\n",
       "</table>\n",
       "</div>"
      ],
      "text/plain": [
       "                                               tweet label  \\\n",
       "1  Elle ne devait pas dÃ©gager la nazi ??? https:...     1   \n",
       "2  je dois faire un oral en anglais sur Hitler et...     0   \n",
       "3  @ambrassmoi_ A Ã§a ð¤ de ressembler Ã  la cr...     0   \n",
       "4  \"Par curiositÃ©, jâai voulu Ã©couter les dis...     0   \n",
       "5  @tical10 @ExBarcaFan74523 @ConflitsFrance Mdr ...     1   \n",
       "\n",
       "                                       lowered_tweet  \\\n",
       "1  elle ne devait pas dã©gager la nazi ??? https:...   \n",
       "2  je dois faire un oral en anglais sur hitler et...   \n",
       "3  @ambrassmoi_ a ã§a ð¤ de ressembler ã  la cr...   \n",
       "4  \"par curiositã©, jâai voulu ã©couter les dis...   \n",
       "5  @tical10 @exbarcafan74523 @conflitsfrance mdr ...   \n",
       "\n",
       "                                     tokenized_tweet  \n",
       "1  [elle, ne, devait, pas, dã, ©, gager, la, nazi...  \n",
       "2  [je, dois, faire, un, oral, en, anglais, sur, ...  \n",
       "3  [@ambrassmoi_, a, ã, §, a, ð, , ¤, , de, res...  \n",
       "4  [\", par, curiositã, ©, ,, jâ, , , ai, voulu,...  \n",
       "5  [@tical10, @exbarcafan74523, @conflitsfrance, ...  "
      ]
     },
     "execution_count": 16,
     "metadata": {},
     "output_type": "execute_result"
    }
   ],
   "source": [
    "tokenizer = nltk.TweetTokenizer()\n",
    "# keeps hashtags together, subset of word_tokenize\n",
    "\n",
    "df['tokenized_tweet'] = df['lowered_tweet'].apply(tokenizer.tokenize)\n",
    "df.head()\n",
    "\n",
    "# https://stackoverflow.com/questions/48363461/passing-a-pandas-dataframe-column-to-an-nltk-tokenizer\n",
    "#df['tweet'] = df['tweet'].apply(nltk.TweetTokenizer)\n",
    "# this overwrote what i did"
   ]
  },
  {
   "cell_type": "code",
   "execution_count": 17,
   "metadata": {},
   "outputs": [],
   "source": [
    "def rejoin_string(a_list):\n",
    "    return ' '.join(a_list)\n",
    "\n",
    "\n",
    "df['tokenized_tweet_joined'] = df['tokenized_tweet'].apply(rejoin_string)\n",
    "# rejoins into string, that's been tokenized\n",
    "# holds spaces between tokens but now altogether"
   ]
  },
  {
   "cell_type": "code",
   "execution_count": 18,
   "metadata": {},
   "outputs": [
    {
     "data": {
      "text/html": [
       "<div>\n",
       "<style scoped>\n",
       "    .dataframe tbody tr th:only-of-type {\n",
       "        vertical-align: middle;\n",
       "    }\n",
       "\n",
       "    .dataframe tbody tr th {\n",
       "        vertical-align: top;\n",
       "    }\n",
       "\n",
       "    .dataframe thead th {\n",
       "        text-align: right;\n",
       "    }\n",
       "</style>\n",
       "<table border=\"1\" class=\"dataframe\">\n",
       "  <thead>\n",
       "    <tr style=\"text-align: right;\">\n",
       "      <th></th>\n",
       "      <th>tweet</th>\n",
       "      <th>label</th>\n",
       "      <th>lowered_tweet</th>\n",
       "      <th>tokenized_tweet</th>\n",
       "      <th>tokenized_tweet_joined</th>\n",
       "    </tr>\n",
       "  </thead>\n",
       "  <tbody>\n",
       "    <tr>\n",
       "      <th>1</th>\n",
       "      <td>Elle ne devait pas dÃ©gager la nazi ??? https:...</td>\n",
       "      <td>1</td>\n",
       "      <td>elle ne devait pas dã©gager la nazi ??? https:...</td>\n",
       "      <td>[elle, ne, devait, pas, dã, ©, gager, la, nazi...</td>\n",
       "      <td>elle ne devait pas dã © gager la nazi ? ? ? ht...</td>\n",
       "    </tr>\n",
       "    <tr>\n",
       "      <th>2</th>\n",
       "      <td>je dois faire un oral en anglais sur Hitler et...</td>\n",
       "      <td>0</td>\n",
       "      <td>je dois faire un oral en anglais sur hitler et...</td>\n",
       "      <td>[je, dois, faire, un, oral, en, anglais, sur, ...</td>\n",
       "      <td>je dois faire un oral en anglais sur hitler et...</td>\n",
       "    </tr>\n",
       "    <tr>\n",
       "      <th>3</th>\n",
       "      <td>@ambrassmoi_ A Ã§a ð¤ de ressembler Ã  la cr...</td>\n",
       "      <td>0</td>\n",
       "      <td>@ambrassmoi_ a ã§a ð¤ de ressembler ã  la cr...</td>\n",
       "      <td>[@ambrassmoi_, a, ã, §, a, ð, , ¤, , de, res...</td>\n",
       "      <td>@ambrassmoi_ a ã § a ð  ¤  de ressembler ã l...</td>\n",
       "    </tr>\n",
       "    <tr>\n",
       "      <th>4</th>\n",
       "      <td>\"Par curiositÃ©, jâai voulu Ã©couter les dis...</td>\n",
       "      <td>0</td>\n",
       "      <td>\"par curiositã©, jâai voulu ã©couter les dis...</td>\n",
       "      <td>[\", par, curiositã, ©, ,, jâ, , , ai, voulu,...</td>\n",
       "      <td>\" par curiositã © , jâ   ai voulu ã © couter...</td>\n",
       "    </tr>\n",
       "    <tr>\n",
       "      <th>5</th>\n",
       "      <td>@tical10 @ExBarcaFan74523 @ConflitsFrance Mdr ...</td>\n",
       "      <td>1</td>\n",
       "      <td>@tical10 @exbarcafan74523 @conflitsfrance mdr ...</td>\n",
       "      <td>[@tical10, @exbarcafan74523, @conflitsfrance, ...</td>\n",
       "      <td>@tical10 @exbarcafan74523 @conflitsfrance mdr ...</td>\n",
       "    </tr>\n",
       "  </tbody>\n",
       "</table>\n",
       "</div>"
      ],
      "text/plain": [
       "                                               tweet label  \\\n",
       "1  Elle ne devait pas dÃ©gager la nazi ??? https:...     1   \n",
       "2  je dois faire un oral en anglais sur Hitler et...     0   \n",
       "3  @ambrassmoi_ A Ã§a ð¤ de ressembler Ã  la cr...     0   \n",
       "4  \"Par curiositÃ©, jâai voulu Ã©couter les dis...     0   \n",
       "5  @tical10 @ExBarcaFan74523 @ConflitsFrance Mdr ...     1   \n",
       "\n",
       "                                       lowered_tweet  \\\n",
       "1  elle ne devait pas dã©gager la nazi ??? https:...   \n",
       "2  je dois faire un oral en anglais sur hitler et...   \n",
       "3  @ambrassmoi_ a ã§a ð¤ de ressembler ã  la cr...   \n",
       "4  \"par curiositã©, jâai voulu ã©couter les dis...   \n",
       "5  @tical10 @exbarcafan74523 @conflitsfrance mdr ...   \n",
       "\n",
       "                                     tokenized_tweet  \\\n",
       "1  [elle, ne, devait, pas, dã, ©, gager, la, nazi...   \n",
       "2  [je, dois, faire, un, oral, en, anglais, sur, ...   \n",
       "3  [@ambrassmoi_, a, ã, §, a, ð, , ¤, , de, res...   \n",
       "4  [\", par, curiositã, ©, ,, jâ, , , ai, voulu,...   \n",
       "5  [@tical10, @exbarcafan74523, @conflitsfrance, ...   \n",
       "\n",
       "                              tokenized_tweet_joined  \n",
       "1  elle ne devait pas dã © gager la nazi ? ? ? ht...  \n",
       "2  je dois faire un oral en anglais sur hitler et...  \n",
       "3  @ambrassmoi_ a ã § a ð  ¤  de ressembler ã l...  \n",
       "4  \" par curiositã © , jâ   ai voulu ã © couter...  \n",
       "5  @tical10 @exbarcafan74523 @conflitsfrance mdr ...  "
      ]
     },
     "execution_count": 18,
     "metadata": {},
     "output_type": "execute_result"
    }
   ],
   "source": [
    "df.head()"
   ]
  },
  {
   "cell_type": "code",
   "execution_count": 19,
   "metadata": {},
   "outputs": [],
   "source": [
    "# df['tweet'] = df['tweet'].astype(pd.StringDtype())\n",
    "\n",
    "# df['tokenized_tweet'] = df['tokenized_tweet'].astype(str)\n",
    "# must feed str into vectorizer"
   ]
  },
  {
   "cell_type": "code",
   "execution_count": 20,
   "metadata": {},
   "outputs": [],
   "source": [
    "X = df['tokenized_tweet_joined'] # list of tokenized tweets\n",
    "y = df['label'] # list of labels of tweets"
   ]
  },
  {
   "cell_type": "code",
   "execution_count": 21,
   "metadata": {},
   "outputs": [],
   "source": [
    "# split X and y into training and testing sets\n",
    "# randomizes data in splitting\n",
    "from sklearn.model_selection import train_test_split\n",
    "\n",
    "X_train, X_test, y_train, y_test = train_test_split(X, y, test_size = 0.2, random_state = 0)\n",
    "# indicating random state ensures data split will be same\n",
    "#https://stackoverflow.com/questions/28064634/random-state-pseudo-random-number-in-scikit-learn"
   ]
  },
  {
   "cell_type": "code",
   "execution_count": 22,
   "metadata": {},
   "outputs": [
    {
     "data": {
      "text/plain": [
       "((2284,), (572,))"
      ]
     },
     "execution_count": 22,
     "metadata": {},
     "output_type": "execute_result"
    }
   ],
   "source": [
    "# check the shape of X_train and X_test\n",
    "\n",
    "X_train.shape, X_test.shape\n",
    "# ((2284, 10), (572, 10))"
   ]
  },
  {
   "cell_type": "code",
   "execution_count": 23,
   "metadata": {},
   "outputs": [
    {
     "data": {
      "text/plain": [
       "((2284,), (572,))"
      ]
     },
     "execution_count": 23,
     "metadata": {},
     "output_type": "execute_result"
    }
   ],
   "source": [
    "y_train.shape, y_test.shape\n",
    "# ((2284,), (572,))"
   ]
  },
  {
   "cell_type": "code",
   "execution_count": 24,
   "metadata": {},
   "outputs": [
    {
     "data": {
      "text/plain": [
       "dtype('O')"
      ]
     },
     "execution_count": 24,
     "metadata": {},
     "output_type": "execute_result"
    }
   ],
   "source": [
    "# check data types in X_train\n",
    "\n",
    "X_train.dtypes"
   ]
  },
  {
   "cell_type": "code",
   "execution_count": 25,
   "metadata": {},
   "outputs": [],
   "source": [
    "from sklearn.feature_extraction.text import TfidfVectorizer\n",
    "\n",
    "# Initialize our vectorizer (featurizer, turning text to numbers)\n",
    "#only looking at numbers produced, creating features\n",
    "# takes each tweet turning into feature vector, each column corresponds to word\n",
    "vectorizer = TfidfVectorizer(ngram_range=(1,2)) \n",
    "# range of n-grams in the final matrix as new features\n",
    "\n",
    "# fit vectorizer w/ train data (training data)\n",
    "# This makes your vocab matrix, learns words in vocab\n",
    "vectorizer.fit(X_train)\n",
    "\n",
    "# This transforms your documents into vectors (numbers).\n",
    "X_train = vectorizer.transform(X_train)\n",
    "X_test = vectorizer.transform(X_test)"
   ]
  },
  {
   "cell_type": "code",
   "execution_count": 26,
   "metadata": {},
   "outputs": [],
   "source": [
    "# function to test and evaluate models. \n",
    "from sklearn import metrics\n",
    "from sklearn.metrics import accuracy_score, f1_score\n",
    "from sklearn.metrics import classification_report\n",
    "from sklearn.metrics import plot_confusion_matrix\n",
    "from sklearn.metrics import confusion_matrix\n",
    "\n",
    "# For plotting\n",
    "import matplotlib.pyplot as plt\n",
    "\n",
    "def build_and_eval_model(model, X, y):\n",
    "    print(\"Running report for model:\", model) \n",
    "    \n",
    "    # Fit our model.\n",
    "    model.fit(X_train, y_train)\n",
    "    \n",
    "    \n",
    "    # predicting results based on testing data\n",
    "    y_pred = model.predict(X_test)\n",
    "    # Make predicted probabilites of our testing data\n",
    "#     y_pred_proba = model.predict_proba(X_test)\n",
    "# https://stackoverflow.com/questions/15111408/how-does-sklearn-svm-svcs-function-predict-proba-work-internally\n",
    "\n",
    "    # Get the evaluation metrics \n",
    "    print('Model accuracy score: {0:0.4f}'. format(accuracy_score(y_test, y_pred)))\n",
    "    # y_test are true class labels and y_pred are predicted class labels in test-set, don't use train data\n",
    "    \n",
    "    # f1-score is always lower than accuracy measures, they embed precision and recall into their computation\n",
    "#     print('F1 Score: %.4f' % f1_score(y_test, y_pred, pos_label='0'))\n",
    "    # https://datascience.stackexchange.com/questions/54436/valueerror-pos-label-1-is-not-a-valid-label-arrayn-y-dtype-u1\n",
    "    # data not much, low f1score; cross fold validation to generate data articificially\n",
    "    f1score = f1_score(y_test, y_pred, average='macro')\n",
    "    print('macro F-1 score : {}'.format(np.round(f1score,5)))\n",
    "    # macro avg f1score = unweighted mean of all the per-class F1 scores, treats all classes equally important\n",
    "    # weighted-averaged F1 score is calculated by taking the mean of all per-class F1 scores while considering each class’s support\n",
    "    ## ‘weight’ refers to proportion of each class’s support relative to the sum of all support values\n",
    "    # https://towardsdatascience.com/micro-macro-weighted-averages-of-f1-score-clearly-explained-b603420b292f\n",
    "    \n",
    "    # compare the train-set and test-set accuracy to check for overfitting \n",
    "    y_pred_train = model.predict(X_train) \n",
    "    # overlearned training data = training accuracy higher (but not over so b/c not 99)\n",
    "    ## close enough to \"possibly\" overfit but not dramatic difference --> trust model accuracy score (minor point)\n",
    "    print('Training set accuracy score: {0:0.4f}'. format(accuracy_score(y_train, y_pred_train)))\n",
    "    print('Test set accuracy score: {:.4f}'.format(model.score(X_test, y_test)))\n",
    "\n",
    "    # Print the classification report. \n",
    "    print(metrics.classification_report(y_test, y_pred))\n",
    "    \n",
    "        \n",
    "    # Plot the confusion matrix\n",
    "    fig, ax = plt.subplots(figsize=(13,13))\n",
    "    \n",
    "    metrics.plot_confusion_matrix(estimator=model, \n",
    "                                  X=X_test, \n",
    "                                  y_true=y_test, \n",
    "                                  ax=ax)\n",
    "    \n",
    "    cm = confusion_matrix(y_test, y_pred)\n",
    "    print('Confusion matrix\\n\\n', cm)\n",
    "    print('\\nTrue Positives(TP) = ', cm[0,0])\n",
    "    print('\\nTrue Negatives(TN) = ', cm[1,1])\n",
    "    print('\\nFalse Positives(FP) = ', cm[0,1])\n",
    "    print('\\nFalse Negatives(FN) = ', cm[1,0])\n",
    "\n",
    "#     # visualize confusion matrix with seaborn heatmap\n",
    "#     cm_matrix = pd.DataFrame(data=cm, columns=['Actual Positive:1', 'Actual Negative:0'], \n",
    "#                                  index=['Predict Positive:1', 'Predict Negative:0'])\n",
    "#     sns.heatmap(cm_matrix, annot=True, fmt='d', cmap='YlGnBu')\n",
    "    \n",
    "    \n",
    "    # print classification accuracy, same as test set score & model accuracy score\n",
    "    classification_accuracy = (cm[0,0] + cm[1,1]) / float(cm[0,0] + cm[1,1] + cm[0,1] + cm[1,0])\n",
    "    print('Classification accuracy : {0:0.4f}'.format(classification_accuracy))\n",
    "    \n",
    "    # print classification error\n",
    "    classification_error = (cm[0,1] + cm[1,0]) / float(cm[0,0] + cm[1,1] + cm[0,1] + cm[1,0])\n",
    "    print('Classification error : {0:0.4f}'.format(classification_error))\n",
    "\n",
    "    # Return the fitted model. \n",
    "    return model\n"
   ]
  },
  {
   "cell_type": "code",
   "execution_count": 27,
   "metadata": {},
   "outputs": [
    {
     "name": "stdout",
     "output_type": "stream",
     "text": [
      "Running report for model: LogisticRegression()\n",
      "Model accuracy score: 0.7762\n",
      "macro F-1 score : 0.69286\n",
      "Training set accuracy score: 0.8546\n",
      "Test set accuracy score: 0.7762\n",
      "              precision    recall  f1-score   support\n",
      "\n",
      "           0       0.77      0.95      0.85       390\n",
      "           1       0.79      0.40      0.53       182\n",
      "\n",
      "    accuracy                           0.78       572\n",
      "   macro avg       0.78      0.68      0.69       572\n",
      "weighted avg       0.78      0.78      0.75       572\n",
      "\n",
      "Confusion matrix\n",
      "\n",
      " [[371  19]\n",
      " [109  73]]\n",
      "\n",
      "True Positives(TP) =  371\n",
      "\n",
      "True Negatives(TN) =  73\n",
      "\n",
      "False Positives(FP) =  19\n",
      "\n",
      "False Negatives(FN) =  109\n",
      "Classification accuracy : 0.7762\n",
      "Classification error : 0.2238\n"
     ]
    },
    {
     "data": {
      "text/plain": [
       "LogisticRegression()"
      ]
     },
     "execution_count": 27,
     "metadata": {},
     "output_type": "execute_result"
    },
    {
     "data": {
      "image/png": "[encoded data removed]",
      "text/plain": [
       "<Figure size 936x936 with 2 Axes>"
      ]
     },
     "metadata": {
      "needs_background": "light"
     },
     "output_type": "display_data"
    }
   ],
   "source": [
    "from sklearn.linear_model import LogisticRegression\n",
    "\n",
    "lr = LogisticRegression()\n",
    "build_and_eval_model(lr, X, y)"
   ]
  },
  {
   "cell_type": "code",
   "execution_count": 28,
   "metadata": {},
   "outputs": [
    {
     "name": "stdout",
     "output_type": "stream",
     "text": [
      "Running report for model: LinearSVC()\n",
      "Model accuracy score: 0.7902\n",
      "macro F-1 score : 0.74629\n",
      "Training set accuracy score: 0.9996\n",
      "Test set accuracy score: 0.7902\n",
      "              precision    recall  f1-score   support\n",
      "\n",
      "           0       0.82      0.88      0.85       390\n",
      "           1       0.70      0.59      0.64       182\n",
      "\n",
      "    accuracy                           0.79       572\n",
      "   macro avg       0.76      0.74      0.75       572\n",
      "weighted avg       0.78      0.79      0.78       572\n",
      "\n",
      "Confusion matrix\n",
      "\n",
      " [[345  45]\n",
      " [ 75 107]]\n",
      "\n",
      "True Positives(TP) =  345\n",
      "\n",
      "True Negatives(TN) =  107\n",
      "\n",
      "False Positives(FP) =  45\n",
      "\n",
      "False Negatives(FN) =  75\n",
      "Classification accuracy : 0.7902\n",
      "Classification error : 0.2098\n"
     ]
    },
    {
     "data": {
      "text/plain": [
       "LinearSVC()"
      ]
     },
     "execution_count": 28,
     "metadata": {},
     "output_type": "execute_result"
    },
    {
     "data": {
      "image/png": "[encoded data removed]",
      "text/plain": [
       "<Figure size 936x936 with 2 Axes>"
      ]
     },
     "metadata": {
      "needs_background": "light"
     },
     "output_type": "display_data"
    }
   ],
   "source": [
    "from sklearn import svm\n",
    "\n",
    "lsvc = svm.LinearSVC()\n",
    "build_and_eval_model(lsvc, X, y)\n",
    "# class is imbalanced but not a lot of data is impacting 0 detection better"
   ]
  },
  {
   "cell_type": "code",
   "execution_count": 29,
   "metadata": {},
   "outputs": [
    {
     "name": "stdout",
     "output_type": "stream",
     "text": [
      "Running report for model: MultinomialNB(alpha=0.05)\n",
      "Model accuracy score: 0.7605\n",
      "macro F-1 score : 0.68572\n",
      "Training set accuracy score: 0.9987\n",
      "Test set accuracy score: 0.7605\n",
      "              precision    recall  f1-score   support\n",
      "\n",
      "           0       0.77      0.92      0.84       390\n",
      "           1       0.70      0.43      0.53       182\n",
      "\n",
      "    accuracy                           0.76       572\n",
      "   macro avg       0.74      0.67      0.69       572\n",
      "weighted avg       0.75      0.76      0.74       572\n",
      "\n",
      "Confusion matrix\n",
      "\n",
      " [[357  33]\n",
      " [104  78]]\n",
      "\n",
      "True Positives(TP) =  357\n",
      "\n",
      "True Negatives(TN) =  78\n",
      "\n",
      "False Positives(FP) =  33\n",
      "\n",
      "False Negatives(FN) =  104\n",
      "Classification accuracy : 0.7605\n",
      "Classification error : 0.2395\n"
     ]
    },
    {
     "data": {
      "text/plain": [
       "MultinomialNB(alpha=0.05)"
      ]
     },
     "execution_count": 29,
     "metadata": {},
     "output_type": "execute_result"
    },
    {
     "data": {
      "image/png": "[encoded data removed]",
      "text/plain": [
       "<Figure size 936x936 with 2 Axes>"
      ]
     },
     "metadata": {
      "needs_background": "light"
     },
     "output_type": "display_data"
    }
   ],
   "source": [
    "mnb = MultinomialNB(alpha=.05)\n",
    "build_and_eval_model(mnb, X, y)"
   ]
  },
  {
   "cell_type": "code",
   "execution_count": 30,
   "metadata": {},
   "outputs": [
    {
     "name": "stdout",
     "output_type": "stream",
     "text": [
      "Running report for model: SVC()\n",
      "Model accuracy score: 0.7605\n",
      "macro F-1 score : 0.66534\n",
      "Training set accuracy score: 0.9978\n",
      "Test set accuracy score: 0.7605\n",
      "              precision    recall  f1-score   support\n",
      "\n",
      "           0       0.76      0.95      0.84       390\n",
      "           1       0.76      0.36      0.49       182\n",
      "\n",
      "    accuracy                           0.76       572\n",
      "   macro avg       0.76      0.65      0.67       572\n",
      "weighted avg       0.76      0.76      0.73       572\n",
      "\n",
      "Confusion matrix\n",
      "\n",
      " [[370  20]\n",
      " [117  65]]\n",
      "\n",
      "True Positives(TP) =  370\n",
      "\n",
      "True Negatives(TN) =  65\n",
      "\n",
      "False Positives(FP) =  20\n",
      "\n",
      "False Negatives(FN) =  117\n",
      "Classification accuracy : 0.7605\n",
      "Classification error : 0.2395\n"
     ]
    },
    {
     "data": {
      "text/plain": [
       "SVC()"
      ]
     },
     "execution_count": 30,
     "metadata": {},
     "output_type": "execute_result"
    },
    {
     "data": {
      "image/png": "[encoded data removed]",
      "text/plain": [
       "<Figure size 936x936 with 2 Axes>"
      ]
     },
     "metadata": {
      "needs_background": "light"
     },
     "output_type": "display_data"
    }
   ],
   "source": [
    "svc = svm.SVC()\n",
    "build_and_eval_model(svc, X, y)"
   ]
  },
  {
   "cell_type": "code",
   "execution_count": 31,
   "metadata": {},
   "outputs": [
    {
     "name": "stdout",
     "output_type": "stream",
     "text": [
      "Running report for model: RandomForestClassifier()\n",
      "Model accuracy score: 0.7710\n",
      "macro F-1 score : 0.69675\n",
      "Training set accuracy score: 0.9996\n",
      "Test set accuracy score: 0.7710\n",
      "              precision    recall  f1-score   support\n",
      "\n",
      "           0       0.78      0.93      0.85       390\n",
      "           1       0.74      0.43      0.55       182\n",
      "\n",
      "    accuracy                           0.77       572\n",
      "   macro avg       0.76      0.68      0.70       572\n",
      "weighted avg       0.77      0.77      0.75       572\n",
      "\n",
      "Confusion matrix\n",
      "\n",
      " [[362  28]\n",
      " [103  79]]\n",
      "\n",
      "True Positives(TP) =  362\n",
      "\n",
      "True Negatives(TN) =  79\n",
      "\n",
      "False Positives(FP) =  28\n",
      "\n",
      "False Negatives(FN) =  103\n",
      "Classification accuracy : 0.7710\n",
      "Classification error : 0.2290\n"
     ]
    },
    {
     "data": {
      "text/plain": [
       "RandomForestClassifier()"
      ]
     },
     "execution_count": 31,
     "metadata": {},
     "output_type": "execute_result"
    },
    {
     "data": {
      "image/png": "[encoded data removed]",
      "text/plain": [
       "<Figure size 936x936 with 2 Axes>"
      ]
     },
     "metadata": {
      "needs_background": "light"
     },
     "output_type": "display_data"
    }
   ],
   "source": [
    "from sklearn.ensemble import RandomForestClassifier\n",
    "rf = RandomForestClassifier()\n",
    "\n",
    "build_and_eval_model(rf, X, y)"
   ]
  },
  {
   "cell_type": "code",
   "execution_count": 34,
   "metadata": {},
   "outputs": [
    {
     "name": "stdout",
     "output_type": "stream",
     "text": [
      "Running report for model: DecisionTreeClassifier(random_state=0)\n",
      "Model accuracy score: 0.6976\n",
      "macro F-1 score : 0.65778\n",
      "Training set accuracy score: 0.9996\n",
      "Test set accuracy score: 0.6976\n",
      "              precision    recall  f1-score   support\n",
      "\n",
      "           0       0.79      0.76      0.77       390\n",
      "           1       0.52      0.56      0.54       182\n",
      "\n",
      "    accuracy                           0.70       572\n",
      "   macro avg       0.66      0.66      0.66       572\n",
      "weighted avg       0.70      0.70      0.70       572\n",
      "\n",
      "Confusion matrix\n",
      "\n",
      " [[297  93]\n",
      " [ 80 102]]\n",
      "\n",
      "True Positives(TP) =  297\n",
      "\n",
      "True Negatives(TN) =  102\n",
      "\n",
      "False Positives(FP) =  93\n",
      "\n",
      "False Negatives(FN) =  80\n",
      "Classification accuracy : 0.6976\n",
      "Classification error : 0.3024\n"
     ]
    },
    {
     "data": {
      "text/plain": [
       "DecisionTreeClassifier(random_state=0)"
      ]
     },
     "execution_count": 34,
     "metadata": {},
     "output_type": "execute_result"
    },
    {
     "data": {
      "image/png": "[encoded data removed]",
      "text/plain": [
       "<Figure size 936x936 with 2 Axes>"
      ]
     },
     "metadata": {
      "needs_background": "light"
     },
     "output_type": "display_data"
    }
   ],
   "source": [
    "from sklearn.tree import DecisionTreeClassifier\n",
    "dt = DecisionTreeClassifier(random_state=0)\n",
    "build_and_eval_model(dt, X, y)"
   ]
  }
 ],
 "metadata": {
  "colab": {
   "collapsed_sections": [],
   "include_colab_link": true,
   "provenance": []
  },
  "kernelspec": {
   "display_name": "Python 3 (ipykernel)",
   "language": "python",
   "name": "python3"
  },
  "language_info": {
   "codemirror_mode": {
    "name": "ipython",
    "version": 3
   },
   "file_extension": ".py",
   "mimetype": "text/x-python",
   "name": "python",
   "nbconvert_exporter": "python",
   "pygments_lexer": "ipython3",
   "version": "3.9.7"
  }
 },
 "nbformat": 4,
 "nbformat_minor": 1
}
