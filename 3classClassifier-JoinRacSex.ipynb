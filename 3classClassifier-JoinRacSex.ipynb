{
 "cells": [
  {
   "cell_type": "code",
   "execution_count": 57,
   "id": "ed256115",
   "metadata": {},
   "outputs": [],
   "source": [
    "import nltk\n",
    "from nltk.tokenize import TweetTokenizer\n",
    "\n",
    "from sklearn.model_selection import train_test_split\n",
    "from sklearn.feature_extraction.text import TfidfVectorizer\n",
    "from sklearn import metrics\n",
    "from sklearn.metrics import accuracy_score, f1_score\n",
    "from sklearn.metrics import classification_report\n",
    "from sklearn.metrics import plot_confusion_matrix\n",
    "from sklearn.metrics import confusion_matrix\n",
    "\n",
    "# mmodels\n",
    "from sklearn.linear_model import LogisticRegression\n",
    "from sklearn.naive_bayes import MultinomialNB\n",
    "from sklearn import svm\n",
    "from sklearn.ensemble import RandomForestClassifier\n",
    "from sklearn.tree import DecisionTreeClassifier\n",
    "\n",
    "import matplotlib.pyplot as plt\n",
    "import pandas as pd\n",
    "import numpy as np\n"
   ]
  },
  {
   "cell_type": "code",
   "execution_count": 6,
   "id": "d9af91f9",
   "metadata": {},
   "outputs": [
    {
     "name": "stdout",
     "output_type": "stream",
     "text": [
      "neutral    6330\n",
      "sexist     3000\n",
      "Name: label_description, dtype: int64\n"
     ]
    },
    {
     "data": {
      "text/html": [
       "<div>\n",
       "<style scoped>\n",
       "    .dataframe tbody tr th:only-of-type {\n",
       "        vertical-align: middle;\n",
       "    }\n",
       "\n",
       "    .dataframe tbody tr th {\n",
       "        vertical-align: top;\n",
       "    }\n",
       "\n",
       "    .dataframe thead th {\n",
       "        text-align: right;\n",
       "    }\n",
       "</style>\n",
       "<table border=\"1\" class=\"dataframe\">\n",
       "  <thead>\n",
       "    <tr style=\"text-align: right;\">\n",
       "      <th></th>\n",
       "      <th>id</th>\n",
       "      <th>tweet</th>\n",
       "      <th>label</th>\n",
       "      <th>label_description</th>\n",
       "      <th>from_file</th>\n",
       "    </tr>\n",
       "  </thead>\n",
       "  <tbody>\n",
       "    <tr>\n",
       "      <th>0</th>\n",
       "      <td>327031890622164993</td>\n",
       "      <td>@MirkoPlsll @IanisRondeau ouais.. un chef d'oe...</td>\n",
       "      <td>0</td>\n",
       "      <td>neutral</td>\n",
       "      <td>sexistinfo.csv</td>\n",
       "    </tr>\n",
       "    <tr>\n",
       "      <th>1</th>\n",
       "      <td>326796299179548672</td>\n",
       "      <td>@MamzelleMNa Une très humble femme! #Ironie</td>\n",
       "      <td>0</td>\n",
       "      <td>neutral</td>\n",
       "      <td>sexistinfo.csv</td>\n",
       "    </tr>\n",
       "    <tr>\n",
       "      <th>2</th>\n",
       "      <td>334548844731826176</td>\n",
       "      <td>BLOGUE - «Tsé, la parité homme-femme...» au se...</td>\n",
       "      <td>0</td>\n",
       "      <td>neutral</td>\n",
       "      <td>sexistinfo.csv</td>\n",
       "    </tr>\n",
       "    <tr>\n",
       "      <th>3</th>\n",
       "      <td>334424362033762304</td>\n",
       "      <td>Je suis une femme matérialiste et superficiell...</td>\n",
       "      <td>0</td>\n",
       "      <td>neutral</td>\n",
       "      <td>sexistinfo.csv</td>\n",
       "    </tr>\n",
       "    <tr>\n",
       "      <th>4</th>\n",
       "      <td>421708259716636672</td>\n",
       "      <td>Mise en ligne de mon article sur @PayeTaShnek ...</td>\n",
       "      <td>0</td>\n",
       "      <td>neutral</td>\n",
       "      <td>sexistinfo.csv</td>\n",
       "    </tr>\n",
       "  </tbody>\n",
       "</table>\n",
       "</div>"
      ],
      "text/plain": [
       "                   id                                              tweet  \\\n",
       "0  327031890622164993  @MirkoPlsll @IanisRondeau ouais.. un chef d'oe...   \n",
       "1  326796299179548672        @MamzelleMNa Une très humble femme! #Ironie   \n",
       "2  334548844731826176  BLOGUE - «Tsé, la parité homme-femme...» au se...   \n",
       "3  334424362033762304  Je suis une femme matérialiste et superficiell...   \n",
       "4  421708259716636672  Mise en ligne de mon article sur @PayeTaShnek ...   \n",
       "\n",
       "   label label_description       from_file  \n",
       "0      0           neutral  sexistinfo.csv  \n",
       "1      0           neutral  sexistinfo.csv  \n",
       "2      0           neutral  sexistinfo.csv  \n",
       "3      0           neutral  sexistinfo.csv  \n",
       "4      0           neutral  sexistinfo.csv  "
      ]
     },
     "execution_count": 6,
     "metadata": {},
     "output_type": "execute_result"
    }
   ],
   "source": [
    "sex = pd.read_csv('sexistinfo.csv')\n",
    "\n",
    "sex = sex.dropna()\n",
    "\n",
    "sex.isnull().sum()\n",
    "\n",
    "sex['label'] = sex['label'].astype(int)\n",
    "\n",
    "sex['label_description'] = sex.label.replace(0, 'neutral').replace(1,'sexist')\n",
    "\n",
    "sex['from_file'] = 'sexistinfo.csv'\n",
    "\n",
    "sex.rename(columns={'text': 'tweet'}, inplace=True)\n",
    "\n",
    "print(sex.label_description.value_counts())\n",
    "sex.head()"
   ]
  },
  {
   "cell_type": "code",
   "execution_count": 9,
   "id": "de8c3a55",
   "metadata": {},
   "outputs": [
    {
     "data": {
      "text/html": [
       "<div>\n",
       "<style scoped>\n",
       "    .dataframe tbody tr th:only-of-type {\n",
       "        vertical-align: middle;\n",
       "    }\n",
       "\n",
       "    .dataframe tbody tr th {\n",
       "        vertical-align: top;\n",
       "    }\n",
       "\n",
       "    .dataframe thead th {\n",
       "        text-align: right;\n",
       "    }\n",
       "</style>\n",
       "<table border=\"1\" class=\"dataframe\">\n",
       "  <thead>\n",
       "    <tr style=\"text-align: right;\">\n",
       "      <th></th>\n",
       "      <th>id</th>\n",
       "      <th>tweet</th>\n",
       "      <th>label</th>\n",
       "      <th>label_description</th>\n",
       "      <th>from_file</th>\n",
       "    </tr>\n",
       "  </thead>\n",
       "  <tbody>\n",
       "    <tr>\n",
       "      <th>0</th>\n",
       "      <td>0</td>\n",
       "      <td>Elle ne devait pas dÃ©gager la nazi ??? https:...</td>\n",
       "      <td>1</td>\n",
       "      <td>racist</td>\n",
       "      <td>FTR_labels_base</td>\n",
       "    </tr>\n",
       "    <tr>\n",
       "      <th>1</th>\n",
       "      <td>1</td>\n",
       "      <td>je dois faire un oral en anglais sur Hitler et...</td>\n",
       "      <td>0</td>\n",
       "      <td>neutral</td>\n",
       "      <td>FTR_labels_base</td>\n",
       "    </tr>\n",
       "    <tr>\n",
       "      <th>2</th>\n",
       "      <td>2</td>\n",
       "      <td>@ambrassmoi_ A Ã§a ð¤ de ressembler Ã  la cr...</td>\n",
       "      <td>0</td>\n",
       "      <td>neutral</td>\n",
       "      <td>FTR_labels_base</td>\n",
       "    </tr>\n",
       "    <tr>\n",
       "      <th>3</th>\n",
       "      <td>3</td>\n",
       "      <td>\"Par curiositÃ©, jâai voulu Ã©couter les dis...</td>\n",
       "      <td>0</td>\n",
       "      <td>neutral</td>\n",
       "      <td>FTR_labels_base</td>\n",
       "    </tr>\n",
       "    <tr>\n",
       "      <th>4</th>\n",
       "      <td>4</td>\n",
       "      <td>@tical10 @ExBarcaFan74523 @ConflitsFrance Mdr ...</td>\n",
       "      <td>1</td>\n",
       "      <td>racist</td>\n",
       "      <td>FTR_labels_base</td>\n",
       "    </tr>\n",
       "  </tbody>\n",
       "</table>\n",
       "</div>"
      ],
      "text/plain": [
       "   id                                              tweet  label  \\\n",
       "0   0  Elle ne devait pas dÃ©gager la nazi ??? https:...      1   \n",
       "1   1  je dois faire un oral en anglais sur Hitler et...      0   \n",
       "2   2  @ambrassmoi_ A Ã§a ð¤ de ressembler Ã  la cr...      0   \n",
       "3   3  \"Par curiositÃ©, jâai voulu Ã©couter les dis...      0   \n",
       "4   4  @tical10 @ExBarcaFan74523 @ConflitsFrance Mdr ...      1   \n",
       "\n",
       "  label_description        from_file  \n",
       "0            racist  FTR_labels_base  \n",
       "1           neutral  FTR_labels_base  \n",
       "2           neutral  FTR_labels_base  \n",
       "3           neutral  FTR_labels_base  \n",
       "4            racist  FTR_labels_base  "
      ]
     },
     "execution_count": 9,
     "metadata": {},
     "output_type": "execute_result"
    }
   ],
   "source": [
    "rac = pd.read_csv('FTR_labels_base.csv',  encoding = \"ISO-8859-1\")\n",
    "\n",
    "rac = rac.dropna()\n",
    "\n",
    "rac['label_description'] = rac.label.replace(0, 'neutral').replace(1,'racist')\n",
    "\n",
    "rac['from_file'] = 'FTR_labels_base'\n",
    "\n",
    "rac.head()"
   ]
  },
  {
   "cell_type": "code",
   "execution_count": 10,
   "id": "6b9665d9",
   "metadata": {},
   "outputs": [],
   "source": [
    "rac.to_csv('data/racist.csv', index=False, encoding='utf8')\n",
    "\n",
    "rac = pd.read_csv('data/racist.csv')"
   ]
  },
  {
   "cell_type": "code",
   "execution_count": 11,
   "id": "ec0aa13f",
   "metadata": {},
   "outputs": [],
   "source": [
    "df = pd.concat([rac, sex])"
   ]
  },
  {
   "cell_type": "code",
   "execution_count": 17,
   "id": "3ea56f4e",
   "metadata": {},
   "outputs": [
    {
     "data": {
      "text/plain": [
       "neutral    7740\n",
       "sexist     2838\n",
       "racist      927\n",
       "Name: label_description, dtype: int64"
      ]
     },
     "execution_count": 17,
     "metadata": {},
     "output_type": "execute_result"
    }
   ],
   "source": [
    "df = df.drop_duplicates()\n",
    "\n",
    "df.label_description.value_counts()"
   ]
  },
  {
   "cell_type": "code",
   "execution_count": null,
   "id": "9fd7a10c",
   "metadata": {},
   "outputs": [],
   "source": [
    "df.to_csv('data/neutral-sexist-racist.csv', index=False)"
   ]
  },
  {
   "cell_type": "code",
   "execution_count": 16,
   "id": "b57b7063",
   "metadata": {},
   "outputs": [
    {
     "data": {
      "text/plain": [
       "sexist    2838\n",
       "racist     927\n",
       "Name: label_description, dtype: int64"
      ]
     },
     "execution_count": 16,
     "metadata": {},
     "output_type": "execute_result"
    }
   ],
   "source": [
    "select_condition = df['label_description'] != 'neutral'\n",
    "\n",
    "rac_sex = df[select_condition].copy()\n",
    "\n",
    "rac_sex.label_description.value_counts()"
   ]
  },
  {
   "cell_type": "code",
   "execution_count": null,
   "id": "09d9c379",
   "metadata": {},
   "outputs": [],
   "source": [
    "rac_sex.to_csv('data/racist_sexist.csv', index=False)"
   ]
  },
  {
   "cell_type": "code",
   "execution_count": 14,
   "id": "9dc73232",
   "metadata": {},
   "outputs": [
    {
     "data": {
      "text/plain": [
       "neutral    7740\n",
       "sexist     2838\n",
       "Name: label_description, dtype: int64"
      ]
     },
     "execution_count": 14,
     "metadata": {},
     "output_type": "execute_result"
    }
   ],
   "source": [
    "select_condition = df['label_description'] != 'racist'\n",
    "\n",
    "neutral_sexist = df[select_condition].copy()\n",
    "\n",
    "neutral_sexist.label_description.value_counts()"
   ]
  },
  {
   "cell_type": "code",
   "execution_count": 24,
   "id": "5275c0ee",
   "metadata": {},
   "outputs": [
    {
     "data": {
      "text/html": [
       "<div>\n",
       "<style scoped>\n",
       "    .dataframe tbody tr th:only-of-type {\n",
       "        vertical-align: middle;\n",
       "    }\n",
       "\n",
       "    .dataframe tbody tr th {\n",
       "        vertical-align: top;\n",
       "    }\n",
       "\n",
       "    .dataframe thead th {\n",
       "        text-align: right;\n",
       "    }\n",
       "</style>\n",
       "<table border=\"1\" class=\"dataframe\">\n",
       "  <thead>\n",
       "    <tr style=\"text-align: right;\">\n",
       "      <th></th>\n",
       "      <th>tweet</th>\n",
       "      <th>label</th>\n",
       "      <th>label_description</th>\n",
       "      <th>from_file</th>\n",
       "    </tr>\n",
       "  </thead>\n",
       "  <tbody>\n",
       "    <tr>\n",
       "      <th>0</th>\n",
       "      <td>tweet</td>\n",
       "      <td>label</td>\n",
       "      <td>label_description</td>\n",
       "      <td>from_file</td>\n",
       "    </tr>\n",
       "    <tr>\n",
       "      <th>1</th>\n",
       "      <td>Elle ne devait pas dÃ©gager la nazi ??? https:...</td>\n",
       "      <td>1</td>\n",
       "      <td>racist</td>\n",
       "      <td>FTR_labels_base</td>\n",
       "    </tr>\n",
       "    <tr>\n",
       "      <th>2</th>\n",
       "      <td>je dois faire un oral en anglais sur Hitler et...</td>\n",
       "      <td>0</td>\n",
       "      <td>neutral</td>\n",
       "      <td>FTR_labels_base</td>\n",
       "    </tr>\n",
       "    <tr>\n",
       "      <th>3</th>\n",
       "      <td>@ambrassmoi_ A Ã§a ð¤ de ressembler Ã  la cr...</td>\n",
       "      <td>0</td>\n",
       "      <td>neutral</td>\n",
       "      <td>FTR_labels_base</td>\n",
       "    </tr>\n",
       "    <tr>\n",
       "      <th>4</th>\n",
       "      <td>\"Par curiositÃ©, jâai voulu Ã©couter les dis...</td>\n",
       "      <td>0</td>\n",
       "      <td>neutral</td>\n",
       "      <td>FTR_labels_base</td>\n",
       "    </tr>\n",
       "  </tbody>\n",
       "</table>\n",
       "</div>"
      ],
      "text/plain": [
       "                                               tweet  label  \\\n",
       "0                                              tweet  label   \n",
       "1  Elle ne devait pas dÃ©gager la nazi ??? https:...      1   \n",
       "2  je dois faire un oral en anglais sur Hitler et...      0   \n",
       "3  @ambrassmoi_ A Ã§a ð¤ de ressembler Ã  la cr...      0   \n",
       "4  \"Par curiositÃ©, jâai voulu Ã©couter les dis...      0   \n",
       "\n",
       "   label_description        from_file  \n",
       "0  label_description        from_file  \n",
       "1             racist  FTR_labels_base  \n",
       "2            neutral  FTR_labels_base  \n",
       "3            neutral  FTR_labels_base  \n",
       "4            neutral  FTR_labels_base  "
      ]
     },
     "execution_count": 24,
     "metadata": {},
     "output_type": "execute_result"
    }
   ],
   "source": [
    "# load the data to df\n",
    "three_labels = pd.read_csv('data/neutral-sexist-racist.csv', header=None)\\\n",
    "        .drop(0, axis=1)\\\n",
    "        .rename(columns={1: 'tweet', 2: 'label', 3: 'label_description', 4: 'from_file'})\n",
    "\n",
    "three_labels.head()"
   ]
  },
  {
   "cell_type": "code",
   "execution_count": 25,
   "id": "3576cd7b",
   "metadata": {},
   "outputs": [],
   "source": [
    "three_labels = three_labels.iloc[1: , :]"
   ]
  },
  {
   "cell_type": "code",
   "execution_count": 26,
   "id": "3d402a4c",
   "metadata": {},
   "outputs": [
    {
     "data": {
      "text/plain": [
       "(11505, 4)"
      ]
     },
     "execution_count": 26,
     "metadata": {},
     "output_type": "execute_result"
    }
   ],
   "source": [
    "three_labels.shape\n",
    "# 11505 instances and 4 attributes in dataset"
   ]
  },
  {
   "cell_type": "code",
   "execution_count": 27,
   "id": "a983caad",
   "metadata": {},
   "outputs": [
    {
     "data": {
      "text/html": [
       "<div>\n",
       "<style scoped>\n",
       "    .dataframe tbody tr th:only-of-type {\n",
       "        vertical-align: middle;\n",
       "    }\n",
       "\n",
       "    .dataframe tbody tr th {\n",
       "        vertical-align: top;\n",
       "    }\n",
       "\n",
       "    .dataframe thead th {\n",
       "        text-align: right;\n",
       "    }\n",
       "</style>\n",
       "<table border=\"1\" class=\"dataframe\">\n",
       "  <thead>\n",
       "    <tr style=\"text-align: right;\">\n",
       "      <th></th>\n",
       "      <th>tweet</th>\n",
       "      <th>label</th>\n",
       "      <th>label_description</th>\n",
       "      <th>from_file</th>\n",
       "    </tr>\n",
       "  </thead>\n",
       "  <tbody>\n",
       "    <tr>\n",
       "      <th>1</th>\n",
       "      <td>Elle ne devait pas dÃ©gager la nazi ??? https:...</td>\n",
       "      <td>1</td>\n",
       "      <td>racist</td>\n",
       "      <td>FTR_labels_base</td>\n",
       "    </tr>\n",
       "    <tr>\n",
       "      <th>2</th>\n",
       "      <td>je dois faire un oral en anglais sur Hitler et...</td>\n",
       "      <td>0</td>\n",
       "      <td>neutral</td>\n",
       "      <td>FTR_labels_base</td>\n",
       "    </tr>\n",
       "    <tr>\n",
       "      <th>3</th>\n",
       "      <td>@ambrassmoi_ A Ã§a ð¤ de ressembler Ã  la cr...</td>\n",
       "      <td>0</td>\n",
       "      <td>neutral</td>\n",
       "      <td>FTR_labels_base</td>\n",
       "    </tr>\n",
       "    <tr>\n",
       "      <th>4</th>\n",
       "      <td>\"Par curiositÃ©, jâai voulu Ã©couter les dis...</td>\n",
       "      <td>0</td>\n",
       "      <td>neutral</td>\n",
       "      <td>FTR_labels_base</td>\n",
       "    </tr>\n",
       "    <tr>\n",
       "      <th>5</th>\n",
       "      <td>@tical10 @ExBarcaFan74523 @ConflitsFrance Mdr ...</td>\n",
       "      <td>1</td>\n",
       "      <td>racist</td>\n",
       "      <td>FTR_labels_base</td>\n",
       "    </tr>\n",
       "  </tbody>\n",
       "</table>\n",
       "</div>"
      ],
      "text/plain": [
       "                                               tweet label label_description  \\\n",
       "1  Elle ne devait pas dÃ©gager la nazi ??? https:...     1            racist   \n",
       "2  je dois faire un oral en anglais sur Hitler et...     0           neutral   \n",
       "3  @ambrassmoi_ A Ã§a ð¤ de ressembler Ã  la cr...     0           neutral   \n",
       "4  \"Par curiositÃ©, jâai voulu Ã©couter les dis...     0           neutral   \n",
       "5  @tical10 @ExBarcaFan74523 @ConflitsFrance Mdr ...     1            racist   \n",
       "\n",
       "         from_file  \n",
       "1  FTR_labels_base  \n",
       "2  FTR_labels_base  \n",
       "3  FTR_labels_base  \n",
       "4  FTR_labels_base  \n",
       "5  FTR_labels_base  "
      ]
     },
     "execution_count": 27,
     "metadata": {},
     "output_type": "execute_result"
    }
   ],
   "source": [
    "three_labels.head()"
   ]
  },
  {
   "cell_type": "code",
   "execution_count": 29,
   "id": "bfbf63aa",
   "metadata": {},
   "outputs": [
    {
     "name": "stdout",
     "output_type": "stream",
     "text": [
      "<class 'pandas.core.frame.DataFrame'>\n",
      "RangeIndex: 11505 entries, 1 to 11505\n",
      "Data columns (total 4 columns):\n",
      " #   Column             Non-Null Count  Dtype \n",
      "---  ------             --------------  ----- \n",
      " 0   tweet              11505 non-null  object\n",
      " 1   label              11505 non-null  object\n",
      " 2   label_description  11505 non-null  object\n",
      " 3   from_file          11505 non-null  object\n",
      "dtypes: object(4)\n",
      "memory usage: 359.7+ KB\n"
     ]
    }
   ],
   "source": [
    "# summary of data\n",
    "three_labels.info()"
   ]
  },
  {
   "cell_type": "code",
   "execution_count": 31,
   "id": "e753f151",
   "metadata": {},
   "outputs": [
    {
     "data": {
      "text/plain": [
       "tweet                0\n",
       "label                0\n",
       "label_description    0\n",
       "from_file            0\n",
       "dtype: int64"
      ]
     },
     "execution_count": 31,
     "metadata": {},
     "output_type": "execute_result"
    }
   ],
   "source": [
    "categorical = [var for var in three_labels.columns if three_labels[var].dtype=='O']\n",
    "\n",
    "three_labels[categorical].isnull().sum()"
   ]
  },
  {
   "cell_type": "code",
   "execution_count": 32,
   "id": "75f927ec",
   "metadata": {},
   "outputs": [
    {
     "data": {
      "text/plain": [
       "1        elle ne devait pas dã©gager la nazi ??? https:...\n",
       "2        je dois faire un oral en anglais sur hitler et...\n",
       "3        @ambrassmoi_ a ã§a ð¤ de ressembler ã  la cr...\n",
       "4        \"par curiositã©, jâai voulu ã©couter les dis...\n",
       "5        @tical10 @exbarcafan74523 @conflitsfrance mdr ...\n",
       "                               ...                        \n",
       "11501    #ségolèneroyal a participé activement au décli...\n",
       "11502    depuis l'affaire dsk, les féministes ne veulen...\n",
       "11503    analogie. c’est comme dire à une femme, vous ê...\n",
       "11504    si t'as une bite a la place du coeur, t'étonne...\n",
       "11505    @admir_fdlrc @cardoso_lisa @nadine__morano au ...\n",
       "Name: lowered_tweet, Length: 11505, dtype: object"
      ]
     },
     "execution_count": 32,
     "metadata": {},
     "output_type": "execute_result"
    }
   ],
   "source": [
    "# Lowercase all words\n",
    "def make_lower(a_string):\n",
    "    return a_string.lower()\n",
    "\n",
    "three_labels['lowered_tweet'] = three_labels['tweet'].apply(make_lower)\n",
    "three_labels['lowered_tweet']"
   ]
  },
  {
   "cell_type": "code",
   "execution_count": 37,
   "id": "bf19abe9",
   "metadata": {},
   "outputs": [
    {
     "data": {
      "text/html": [
       "<div>\n",
       "<style scoped>\n",
       "    .dataframe tbody tr th:only-of-type {\n",
       "        vertical-align: middle;\n",
       "    }\n",
       "\n",
       "    .dataframe tbody tr th {\n",
       "        vertical-align: top;\n",
       "    }\n",
       "\n",
       "    .dataframe thead th {\n",
       "        text-align: right;\n",
       "    }\n",
       "</style>\n",
       "<table border=\"1\" class=\"dataframe\">\n",
       "  <thead>\n",
       "    <tr style=\"text-align: right;\">\n",
       "      <th></th>\n",
       "      <th>tweet</th>\n",
       "      <th>label</th>\n",
       "      <th>label_description</th>\n",
       "      <th>from_file</th>\n",
       "      <th>lowered_tweet</th>\n",
       "      <th>tokenized_tweet</th>\n",
       "    </tr>\n",
       "  </thead>\n",
       "  <tbody>\n",
       "    <tr>\n",
       "      <th>1</th>\n",
       "      <td>Elle ne devait pas dÃ©gager la nazi ??? https:...</td>\n",
       "      <td>1</td>\n",
       "      <td>racist</td>\n",
       "      <td>FTR_labels_base</td>\n",
       "      <td>elle ne devait pas dã©gager la nazi ??? https:...</td>\n",
       "      <td>[elle, ne, devait, pas, dã, ©, gager, la, nazi...</td>\n",
       "    </tr>\n",
       "    <tr>\n",
       "      <th>2</th>\n",
       "      <td>je dois faire un oral en anglais sur Hitler et...</td>\n",
       "      <td>0</td>\n",
       "      <td>neutral</td>\n",
       "      <td>FTR_labels_base</td>\n",
       "      <td>je dois faire un oral en anglais sur hitler et...</td>\n",
       "      <td>[je, dois, faire, un, oral, en, anglais, sur, ...</td>\n",
       "    </tr>\n",
       "    <tr>\n",
       "      <th>3</th>\n",
       "      <td>@ambrassmoi_ A Ã§a ð¤ de ressembler Ã  la cr...</td>\n",
       "      <td>0</td>\n",
       "      <td>neutral</td>\n",
       "      <td>FTR_labels_base</td>\n",
       "      <td>@ambrassmoi_ a ã§a ð¤ de ressembler ã  la cr...</td>\n",
       "      <td>[@ambrassmoi_, a, ã, §, a, ð, , ¤, , de, res...</td>\n",
       "    </tr>\n",
       "    <tr>\n",
       "      <th>4</th>\n",
       "      <td>\"Par curiositÃ©, jâai voulu Ã©couter les dis...</td>\n",
       "      <td>0</td>\n",
       "      <td>neutral</td>\n",
       "      <td>FTR_labels_base</td>\n",
       "      <td>\"par curiositã©, jâai voulu ã©couter les dis...</td>\n",
       "      <td>[\", par, curiositã, ©, ,, jâ, , , ai, voulu,...</td>\n",
       "    </tr>\n",
       "    <tr>\n",
       "      <th>5</th>\n",
       "      <td>@tical10 @ExBarcaFan74523 @ConflitsFrance Mdr ...</td>\n",
       "      <td>1</td>\n",
       "      <td>racist</td>\n",
       "      <td>FTR_labels_base</td>\n",
       "      <td>@tical10 @exbarcafan74523 @conflitsfrance mdr ...</td>\n",
       "      <td>[@tical10, @exbarcafan74523, @conflitsfrance, ...</td>\n",
       "    </tr>\n",
       "  </tbody>\n",
       "</table>\n",
       "</div>"
      ],
      "text/plain": [
       "                                               tweet label label_description  \\\n",
       "1  Elle ne devait pas dÃ©gager la nazi ??? https:...     1            racist   \n",
       "2  je dois faire un oral en anglais sur Hitler et...     0           neutral   \n",
       "3  @ambrassmoi_ A Ã§a ð¤ de ressembler Ã  la cr...     0           neutral   \n",
       "4  \"Par curiositÃ©, jâai voulu Ã©couter les dis...     0           neutral   \n",
       "5  @tical10 @ExBarcaFan74523 @ConflitsFrance Mdr ...     1            racist   \n",
       "\n",
       "         from_file                                      lowered_tweet  \\\n",
       "1  FTR_labels_base  elle ne devait pas dã©gager la nazi ??? https:...   \n",
       "2  FTR_labels_base  je dois faire un oral en anglais sur hitler et...   \n",
       "3  FTR_labels_base  @ambrassmoi_ a ã§a ð¤ de ressembler ã  la cr...   \n",
       "4  FTR_labels_base  \"par curiositã©, jâai voulu ã©couter les dis...   \n",
       "5  FTR_labels_base  @tical10 @exbarcafan74523 @conflitsfrance mdr ...   \n",
       "\n",
       "                                     tokenized_tweet  \n",
       "1  [elle, ne, devait, pas, dã, ©, gager, la, nazi...  \n",
       "2  [je, dois, faire, un, oral, en, anglais, sur, ...  \n",
       "3  [@ambrassmoi_, a, ã, §, a, ð, , ¤, , de, res...  \n",
       "4  [\", par, curiositã, ©, ,, jâ, , , ai, voulu,...  \n",
       "5  [@tical10, @exbarcafan74523, @conflitsfrance, ...  "
      ]
     },
     "execution_count": 37,
     "metadata": {},
     "output_type": "execute_result"
    }
   ],
   "source": [
    "tokenizer = nltk.TweetTokenizer()\n",
    "# keeps hashtags together, subset of word_tokenize\n",
    "\n",
    "three_labels['tokenized_tweet'] = three_labels['lowered_tweet'].apply(tokenizer.tokenize)\n",
    "three_labels.head()"
   ]
  },
  {
   "cell_type": "code",
   "execution_count": 38,
   "id": "1ed3de6d",
   "metadata": {},
   "outputs": [
    {
     "data": {
      "text/html": [
       "<div>\n",
       "<style scoped>\n",
       "    .dataframe tbody tr th:only-of-type {\n",
       "        vertical-align: middle;\n",
       "    }\n",
       "\n",
       "    .dataframe tbody tr th {\n",
       "        vertical-align: top;\n",
       "    }\n",
       "\n",
       "    .dataframe thead th {\n",
       "        text-align: right;\n",
       "    }\n",
       "</style>\n",
       "<table border=\"1\" class=\"dataframe\">\n",
       "  <thead>\n",
       "    <tr style=\"text-align: right;\">\n",
       "      <th></th>\n",
       "      <th>tweet</th>\n",
       "      <th>label</th>\n",
       "      <th>label_description</th>\n",
       "      <th>from_file</th>\n",
       "      <th>lowered_tweet</th>\n",
       "      <th>tokenized_tweet</th>\n",
       "      <th>tokenized_tweet_joined</th>\n",
       "    </tr>\n",
       "  </thead>\n",
       "  <tbody>\n",
       "    <tr>\n",
       "      <th>1</th>\n",
       "      <td>Elle ne devait pas dÃ©gager la nazi ??? https:...</td>\n",
       "      <td>1</td>\n",
       "      <td>racist</td>\n",
       "      <td>FTR_labels_base</td>\n",
       "      <td>elle ne devait pas dã©gager la nazi ??? https:...</td>\n",
       "      <td>[elle, ne, devait, pas, dã, ©, gager, la, nazi...</td>\n",
       "      <td>elle ne devait pas dã © gager la nazi ? ? ? ht...</td>\n",
       "    </tr>\n",
       "    <tr>\n",
       "      <th>2</th>\n",
       "      <td>je dois faire un oral en anglais sur Hitler et...</td>\n",
       "      <td>0</td>\n",
       "      <td>neutral</td>\n",
       "      <td>FTR_labels_base</td>\n",
       "      <td>je dois faire un oral en anglais sur hitler et...</td>\n",
       "      <td>[je, dois, faire, un, oral, en, anglais, sur, ...</td>\n",
       "      <td>je dois faire un oral en anglais sur hitler et...</td>\n",
       "    </tr>\n",
       "    <tr>\n",
       "      <th>3</th>\n",
       "      <td>@ambrassmoi_ A Ã§a ð¤ de ressembler Ã  la cr...</td>\n",
       "      <td>0</td>\n",
       "      <td>neutral</td>\n",
       "      <td>FTR_labels_base</td>\n",
       "      <td>@ambrassmoi_ a ã§a ð¤ de ressembler ã  la cr...</td>\n",
       "      <td>[@ambrassmoi_, a, ã, §, a, ð, , ¤, , de, res...</td>\n",
       "      <td>@ambrassmoi_ a ã § a ð  ¤  de ressembler ã l...</td>\n",
       "    </tr>\n",
       "    <tr>\n",
       "      <th>4</th>\n",
       "      <td>\"Par curiositÃ©, jâai voulu Ã©couter les dis...</td>\n",
       "      <td>0</td>\n",
       "      <td>neutral</td>\n",
       "      <td>FTR_labels_base</td>\n",
       "      <td>\"par curiositã©, jâai voulu ã©couter les dis...</td>\n",
       "      <td>[\", par, curiositã, ©, ,, jâ, , , ai, voulu,...</td>\n",
       "      <td>\" par curiositã © , jâ   ai voulu ã © couter...</td>\n",
       "    </tr>\n",
       "    <tr>\n",
       "      <th>5</th>\n",
       "      <td>@tical10 @ExBarcaFan74523 @ConflitsFrance Mdr ...</td>\n",
       "      <td>1</td>\n",
       "      <td>racist</td>\n",
       "      <td>FTR_labels_base</td>\n",
       "      <td>@tical10 @exbarcafan74523 @conflitsfrance mdr ...</td>\n",
       "      <td>[@tical10, @exbarcafan74523, @conflitsfrance, ...</td>\n",
       "      <td>@tical10 @exbarcafan74523 @conflitsfrance mdr ...</td>\n",
       "    </tr>\n",
       "  </tbody>\n",
       "</table>\n",
       "</div>"
      ],
      "text/plain": [
       "                                               tweet label label_description  \\\n",
       "1  Elle ne devait pas dÃ©gager la nazi ??? https:...     1            racist   \n",
       "2  je dois faire un oral en anglais sur Hitler et...     0           neutral   \n",
       "3  @ambrassmoi_ A Ã§a ð¤ de ressembler Ã  la cr...     0           neutral   \n",
       "4  \"Par curiositÃ©, jâai voulu Ã©couter les dis...     0           neutral   \n",
       "5  @tical10 @ExBarcaFan74523 @ConflitsFrance Mdr ...     1            racist   \n",
       "\n",
       "         from_file                                      lowered_tweet  \\\n",
       "1  FTR_labels_base  elle ne devait pas dã©gager la nazi ??? https:...   \n",
       "2  FTR_labels_base  je dois faire un oral en anglais sur hitler et...   \n",
       "3  FTR_labels_base  @ambrassmoi_ a ã§a ð¤ de ressembler ã  la cr...   \n",
       "4  FTR_labels_base  \"par curiositã©, jâai voulu ã©couter les dis...   \n",
       "5  FTR_labels_base  @tical10 @exbarcafan74523 @conflitsfrance mdr ...   \n",
       "\n",
       "                                     tokenized_tweet  \\\n",
       "1  [elle, ne, devait, pas, dã, ©, gager, la, nazi...   \n",
       "2  [je, dois, faire, un, oral, en, anglais, sur, ...   \n",
       "3  [@ambrassmoi_, a, ã, §, a, ð, , ¤, , de, res...   \n",
       "4  [\", par, curiositã, ©, ,, jâ, , , ai, voulu,...   \n",
       "5  [@tical10, @exbarcafan74523, @conflitsfrance, ...   \n",
       "\n",
       "                              tokenized_tweet_joined  \n",
       "1  elle ne devait pas dã © gager la nazi ? ? ? ht...  \n",
       "2  je dois faire un oral en anglais sur hitler et...  \n",
       "3  @ambrassmoi_ a ã § a ð  ¤  de ressembler ã l...  \n",
       "4  \" par curiositã © , jâ   ai voulu ã © couter...  \n",
       "5  @tical10 @exbarcafan74523 @conflitsfrance mdr ...  "
      ]
     },
     "execution_count": 38,
     "metadata": {},
     "output_type": "execute_result"
    }
   ],
   "source": [
    "def rejoin_string(a_list):\n",
    "    return ' '.join(a_list)\n",
    "\n",
    "\n",
    "three_labels['tokenized_tweet_joined'] = three_labels['tokenized_tweet'].apply(rejoin_string)\n",
    "three_labels.head()"
   ]
  },
  {
   "cell_type": "code",
   "execution_count": 62,
   "id": "cd9d0ecd",
   "metadata": {},
   "outputs": [
    {
     "data": {
      "text/plain": [
       "neutral    0.672751\n",
       "sexist     0.246675\n",
       "racist     0.080574\n",
       "Name: label_description, dtype: float64"
      ]
     },
     "execution_count": 62,
     "metadata": {},
     "output_type": "execute_result"
    }
   ],
   "source": [
    "three_labels.label_description.value_counts(normalize=True)"
   ]
  },
  {
   "cell_type": "code",
   "execution_count": 40,
   "id": "993bfa0c",
   "metadata": {},
   "outputs": [],
   "source": [
    "X = three_labels['tokenized_tweet_joined'] # list of tokenized tweets\n",
    "y = three_labels['label_description'] # list of labels of tweets"
   ]
  },
  {
   "cell_type": "code",
   "execution_count": 42,
   "id": "7c4da25b",
   "metadata": {},
   "outputs": [],
   "source": [
    "X_train, X_test, y_train, y_test = train_test_split(X, y, test_size = 0.2, random_state = 0)"
   ]
  },
  {
   "cell_type": "code",
   "execution_count": 43,
   "id": "d45358a1",
   "metadata": {},
   "outputs": [
    {
     "data": {
      "text/plain": [
       "((9204,), (2301,))"
      ]
     },
     "execution_count": 43,
     "metadata": {},
     "output_type": "execute_result"
    }
   ],
   "source": [
    "# check the shape of X_train and X_test\n",
    "\n",
    "X_train.shape, X_test.shape\n",
    "# ((9204,), (2301,))"
   ]
  },
  {
   "cell_type": "code",
   "execution_count": 44,
   "id": "370bd889",
   "metadata": {},
   "outputs": [
    {
     "data": {
      "text/plain": [
       "((9204,), (2301,))"
      ]
     },
     "execution_count": 44,
     "metadata": {},
     "output_type": "execute_result"
    }
   ],
   "source": [
    "y_train.shape, y_test.shape\n",
    "# ((9204,), (2301,))"
   ]
  },
  {
   "cell_type": "code",
   "execution_count": 46,
   "id": "1c320c04",
   "metadata": {},
   "outputs": [],
   "source": [
    "# Initialize our vectorizer (featurizer, turning text to numbers)\n",
    "#only looking at numbers produced, creating features\n",
    "# takes each tweet turning into feature vector, each column corresponds to word\n",
    "vectorizer = TfidfVectorizer(ngram_range=(1,3)) # empty model\n",
    "\n",
    "# fit vectorizer w/ train data (training data)\n",
    "# This makes your vocab matrix, learns words in vocab\n",
    "vectorizer.fit(X_train)\n",
    "\n",
    "# This transforms your documents into vectors (numbers).\n",
    "X_train = vectorizer.transform(X_train)\n",
    "X_test = vectorizer.transform(X_test)"
   ]
  },
  {
   "cell_type": "code",
   "execution_count": 48,
   "id": "7f162e50",
   "metadata": {},
   "outputs": [],
   "source": [
    "# function to test and evaluate models\n",
    "def build_and_eval_model(model, X, y):\n",
    "    print(\"Running report for model:\", model) \n",
    "    \n",
    "    # Fit our model.\n",
    "    model.fit(X_train, y_train)\n",
    "    \n",
    "    \n",
    "    # predicting results based on testing data\n",
    "    y_pred = model.predict(X_test)\n",
    "    # Make predicted probabilites of our testing data\n",
    "#     y_pred_proba = model.predict_proba(X_test)\n",
    "# https://stackoverflow.com/questions/15111408/how-does-sklearn-svm-svcs-function-predict-proba-work-internally\n",
    "\n",
    "    # Get the evaluation metrics \n",
    "    print('Model accuracy score: {0:0.4f}'. format(accuracy_score(y_test, y_pred)))\n",
    "    # y_test are true class labels and y_pred are predicted class labels in test-set, don't use train data\n",
    "    \n",
    "    # f1-score is always lower than accuracy measures, they embed precision and recall into their computation\n",
    "#     print('F1 Score: %.4f' % f1_score(y_test, y_pred, pos_label='0'))\n",
    "    # https://datascience.stackexchange.com/questions/54436/valueerror-pos-label-1-is-not-a-valid-label-arrayn-y-dtype-u1\n",
    "    # data not much, low f1score; cross fold validation to generate data articificially\n",
    "    f1score = f1_score(y_test, y_pred, average='macro')\n",
    "    print('macro F-1 score : {}'.format(np.round(f1score,5)))\n",
    "    # macro avg f1score = unweighted mean of all the per-class F1 scores, treats all classes equally important\n",
    "    # weighted-averaged F1 score is calculated by taking the mean of all per-class F1 scores while considering each class’s support\n",
    "    ## ‘weight’ refers to proportion of each class’s support relative to the sum of all support values\n",
    "    # https://towardsdatascience.com/micro-macro-weighted-averages-of-f1-score-clearly-explained-b603420b292f\n",
    "    \n",
    "    # compare the train-set and test-set accuracy to check for overfitting \n",
    "    y_pred_train = model.predict(X_train) \n",
    "    # overlearned training data = training accuracy higher (but not over so b/c not 99)\n",
    "    ## close enough to \"possibly\" overfit but not dramatic difference --> trust model accuracy score (minor point)\n",
    "    print('Training set accuracy score: {0:0.4f}'. format(accuracy_score(y_train, y_pred_train)))\n",
    "    print('Test set accuracy score: {:.4f}'.format(model.score(X_test, y_test)))\n",
    "\n",
    "    # Print the classification report. \n",
    "    print(metrics.classification_report(y_test, y_pred))\n",
    "    \n",
    "        \n",
    "    # Plot the confusion matrix\n",
    "    fig, ax = plt.subplots(figsize=(13,13))\n",
    "    \n",
    "    metrics.plot_confusion_matrix(estimator=model, \n",
    "                                  X=X_test, \n",
    "                                  y_true=y_test, \n",
    "                                  ax=ax)\n",
    "    \n",
    "    cm = confusion_matrix(y_test, y_pred)\n",
    "    print('Confusion matrix\\n\\n', cm)\n",
    "    print('\\nTrue Positives(TP) = ', cm[0,0])\n",
    "    print('\\nTrue Negatives(TN) = ', cm[1,1])\n",
    "    print('\\nFalse Positives(FP) = ', cm[0,1])\n",
    "    print('\\nFalse Negatives(FN) = ', cm[1,0])\n",
    "    \n",
    "    \n",
    "    # print classification accuracy, same as test set score & model accuracy score\n",
    "    classification_accuracy = (cm[0,0] + cm[1,1]) / float(cm[0,0] + cm[1,1] + cm[0,1] + cm[1,0])\n",
    "    print('Classification accuracy : {0:0.4f}'.format(classification_accuracy))\n",
    "    \n",
    "    # print classification error\n",
    "    classification_error = (cm[0,1] + cm[1,0]) / float(cm[0,0] + cm[1,1] + cm[0,1] + cm[1,0])\n",
    "    print('Classification error : {0:0.4f}'.format(classification_error))\n",
    "\n",
    "    # Return the fitted model\n",
    "    return model\n"
   ]
  },
  {
   "cell_type": "code",
   "execution_count": 54,
   "id": "c8943a0b",
   "metadata": {},
   "outputs": [
    {
     "name": "stdout",
     "output_type": "stream",
     "text": [
      "Running report for model: LogisticRegression()\n",
      "Model accuracy score: 0.7453\n",
      "macro F-1 score : 0.62356\n",
      "Training set accuracy score: 0.9066\n",
      "Test set accuracy score: 0.7453\n",
      "              precision    recall  f1-score   support\n",
      "\n",
      "     neutral       0.78      0.86      0.82      1553\n",
      "      racist       0.72      0.35      0.47       182\n",
      "      sexist       0.62      0.55      0.58       566\n",
      "\n",
      "    accuracy                           0.75      2301\n",
      "   macro avg       0.71      0.59      0.62      2301\n",
      "weighted avg       0.74      0.75      0.73      2301\n",
      "\n",
      "Confusion matrix\n",
      "\n",
      " [[1342   25  186]\n",
      " [ 117   63    2]\n",
      " [ 256    0  310]]\n",
      "\n",
      "True Positives(TP) =  1342\n",
      "\n",
      "True Negatives(TN) =  63\n",
      "\n",
      "False Positives(FP) =  25\n",
      "\n",
      "False Negatives(FN) =  117\n",
      "Classification accuracy : 0.9082\n",
      "Classification error : 0.0918\n"
     ]
    },
    {
     "data": {
      "text/plain": [
       "LogisticRegression()"
      ]
     },
     "execution_count": 54,
     "metadata": {},
     "output_type": "execute_result"
    },
    {
     "data": {
      "image/png": "[encoded data removed]",
      "text/plain": [
       "<Figure size 936x936 with 2 Axes>"
      ]
     },
     "metadata": {
      "needs_background": "light"
     },
     "output_type": "display_data"
    }
   ],
   "source": [
    "lr = LogisticRegression()\n",
    "build_and_eval_model(lr, X, y)"
   ]
  },
  {
   "cell_type": "code",
   "execution_count": 55,
   "id": "ef7783c6",
   "metadata": {},
   "outputs": [
    {
     "name": "stdout",
     "output_type": "stream",
     "text": [
      "Running report for model: LinearSVC()\n",
      "Model accuracy score: 0.7571\n",
      "macro F-1 score : 0.68889\n",
      "Training set accuracy score: 0.9965\n",
      "Test set accuracy score: 0.7571\n",
      "              precision    recall  f1-score   support\n",
      "\n",
      "     neutral       0.83      0.81      0.82      1553\n",
      "      racist       0.67      0.55      0.61       182\n",
      "      sexist       0.60      0.68      0.64       566\n",
      "\n",
      "    accuracy                           0.76      2301\n",
      "   macro avg       0.70      0.68      0.69      2301\n",
      "weighted avg       0.76      0.76      0.76      2301\n",
      "\n",
      "Confusion matrix\n",
      "\n",
      " [[1254   50  249]\n",
      " [  75  101    6]\n",
      " [ 179    0  387]]\n",
      "\n",
      "True Positives(TP) =  1254\n",
      "\n",
      "True Negatives(TN) =  101\n",
      "\n",
      "False Positives(FP) =  50\n",
      "\n",
      "False Negatives(FN) =  75\n",
      "Classification accuracy : 0.9155\n",
      "Classification error : 0.0845\n"
     ]
    },
    {
     "data": {
      "text/plain": [
       "LinearSVC()"
      ]
     },
     "execution_count": 55,
     "metadata": {},
     "output_type": "execute_result"
    },
    {
     "data": {
      "image/png": "[encoded data removed]",
      "text/plain": [
       "<Figure size 936x936 with 2 Axes>"
      ]
     },
     "metadata": {
      "needs_background": "light"
     },
     "output_type": "display_data"
    }
   ],
   "source": [
    "lsvc = svm.LinearSVC()\n",
    "build_and_eval_model(lsvc, X, y)"
   ]
  },
  {
   "cell_type": "code",
   "execution_count": 58,
   "id": "906d0dcb",
   "metadata": {},
   "outputs": [
    {
     "name": "stdout",
     "output_type": "stream",
     "text": [
      "Running report for model: MultinomialNB(alpha=0.05)\n",
      "Model accuracy score: 0.7445\n",
      "macro F-1 score : 0.56664\n",
      "Training set accuracy score: 0.9958\n",
      "Test set accuracy score: 0.7445\n",
      "              precision    recall  f1-score   support\n",
      "\n",
      "     neutral       0.76      0.91      0.83      1553\n",
      "      racist       0.80      0.20      0.32       182\n",
      "      sexist       0.67      0.46      0.55       566\n",
      "\n",
      "    accuracy                           0.74      2301\n",
      "   macro avg       0.74      0.53      0.57      2301\n",
      "weighted avg       0.74      0.74      0.72      2301\n",
      "\n",
      "Confusion matrix\n",
      "\n",
      " [[1413    9  131]\n",
      " [ 144   37    1]\n",
      " [ 303    0  263]]\n",
      "\n",
      "True Positives(TP) =  1413\n",
      "\n",
      "True Negatives(TN) =  37\n",
      "\n",
      "False Positives(FP) =  9\n",
      "\n",
      "False Negatives(FN) =  144\n",
      "Classification accuracy : 0.9046\n",
      "Classification error : 0.0954\n"
     ]
    },
    {
     "data": {
      "text/plain": [
       "MultinomialNB(alpha=0.05)"
      ]
     },
     "execution_count": 58,
     "metadata": {},
     "output_type": "execute_result"
    },
    {
     "data": {
      "image/png": "[encoded data removed]",
      "text/plain": [
       "<Figure size 936x936 with 2 Axes>"
      ]
     },
     "metadata": {
      "needs_background": "light"
     },
     "output_type": "display_data"
    }
   ],
   "source": [
    "mnb = MultinomialNB(alpha=.05)\n",
    "build_and_eval_model(mnb, X, y)"
   ]
  },
  {
   "cell_type": "code",
   "execution_count": 59,
   "id": "d529b364",
   "metadata": {},
   "outputs": [
    {
     "name": "stdout",
     "output_type": "stream",
     "text": [
      "Running report for model: SVC()\n",
      "Model accuracy score: 0.7414\n",
      "macro F-1 score : 0.54665\n",
      "Training set accuracy score: 0.9919\n",
      "Test set accuracy score: 0.7414\n",
      "              precision    recall  f1-score   support\n",
      "\n",
      "     neutral       0.74      0.94      0.83      1553\n",
      "      racist       0.79      0.20      0.32       182\n",
      "      sexist       0.72      0.37      0.49       566\n",
      "\n",
      "    accuracy                           0.74      2301\n",
      "   macro avg       0.75      0.50      0.55      2301\n",
      "weighted avg       0.74      0.74      0.71      2301\n",
      "\n",
      "Confusion matrix\n",
      "\n",
      " [[1461   10   82]\n",
      " [ 145   37    0]\n",
      " [ 358    0  208]]\n",
      "\n",
      "True Positives(TP) =  1461\n",
      "\n",
      "True Negatives(TN) =  37\n",
      "\n",
      "False Positives(FP) =  10\n",
      "\n",
      "False Negatives(FN) =  145\n",
      "Classification accuracy : 0.9062\n",
      "Classification error : 0.0938\n"
     ]
    },
    {
     "data": {
      "text/plain": [
       "SVC()"
      ]
     },
     "execution_count": 59,
     "metadata": {},
     "output_type": "execute_result"
    },
    {
     "data": {
      "image/png": "[encoded data removed]",
      "text/plain": [
       "<Figure size 936x936 with 2 Axes>"
      ]
     },
     "metadata": {
      "needs_background": "light"
     },
     "output_type": "display_data"
    }
   ],
   "source": [
    "svc = svm.SVC()\n",
    "build_and_eval_model(svc, X, y)"
   ]
  },
  {
   "cell_type": "code",
   "execution_count": 60,
   "id": "7dc5993a",
   "metadata": {},
   "outputs": [
    {
     "name": "stdout",
     "output_type": "stream",
     "text": [
      "Running report for model: RandomForestClassifier()\n",
      "Model accuracy score: 0.7153\n",
      "macro F-1 score : 0.46597\n",
      "Training set accuracy score: 0.9965\n",
      "Test set accuracy score: 0.7153\n",
      "              precision    recall  f1-score   support\n",
      "\n",
      "     neutral       0.71      0.97      0.82      1553\n",
      "      racist       0.67      0.17      0.27       182\n",
      "      sexist       0.78      0.19      0.30       566\n",
      "\n",
      "    accuracy                           0.72      2301\n",
      "   macro avg       0.72      0.44      0.47      2301\n",
      "weighted avg       0.73      0.72      0.65      2301\n",
      "\n",
      "Confusion matrix\n",
      "\n",
      " [[1508   15   30]\n",
      " [ 151   31    0]\n",
      " [ 459    0  107]]\n",
      "\n",
      "True Positives(TP) =  1508\n",
      "\n",
      "True Negatives(TN) =  31\n",
      "\n",
      "False Positives(FP) =  15\n",
      "\n",
      "False Negatives(FN) =  151\n",
      "Classification accuracy : 0.9026\n",
      "Classification error : 0.0974\n"
     ]
    },
    {
     "data": {
      "text/plain": [
       "RandomForestClassifier()"
      ]
     },
     "execution_count": 60,
     "metadata": {},
     "output_type": "execute_result"
    },
    {
     "data": {
      "image/png": "[encoded data removed]",
      "text/plain": [
       "<Figure size 936x936 with 2 Axes>"
      ]
     },
     "metadata": {
      "needs_background": "light"
     },
     "output_type": "display_data"
    }
   ],
   "source": [
    "rf = RandomForestClassifier()\n",
    "build_and_eval_model(rf, X, y)"
   ]
  },
  {
   "cell_type": "code",
   "execution_count": 61,
   "id": "3442971d",
   "metadata": {},
   "outputs": [
    {
     "name": "stdout",
     "output_type": "stream",
     "text": [
      "Running report for model: DecisionTreeClassifier(random_state=0)\n",
      "Model accuracy score: 0.6775\n",
      "macro F-1 score : 0.58537\n",
      "Training set accuracy score: 0.9965\n",
      "Test set accuracy score: 0.6775\n",
      "              precision    recall  f1-score   support\n",
      "\n",
      "     neutral       0.76      0.76      0.76      1553\n",
      "      racist       0.46      0.52      0.49       182\n",
      "      sexist       0.52      0.50      0.51       566\n",
      "\n",
      "    accuracy                           0.68      2301\n",
      "   macro avg       0.58      0.59      0.59      2301\n",
      "weighted avg       0.68      0.68      0.68      2301\n",
      "\n",
      "Confusion matrix\n",
      "\n",
      " [[1183  110  260]\n",
      " [  87   94    1]\n",
      " [ 283    1  282]]\n",
      "\n",
      "True Positives(TP) =  1183\n",
      "\n",
      "True Negatives(TN) =  94\n",
      "\n",
      "False Positives(FP) =  110\n",
      "\n",
      "False Negatives(FN) =  87\n",
      "Classification accuracy : 0.8664\n",
      "Classification error : 0.1336\n"
     ]
    },
    {
     "data": {
      "text/plain": [
       "DecisionTreeClassifier(random_state=0)"
      ]
     },
     "execution_count": 61,
     "metadata": {},
     "output_type": "execute_result"
    },
    {
     "data": {
      "image/png": "[encoded data removed]",
      "text/plain": [
       "<Figure size 936x936 with 2 Axes>"
      ]
     },
     "metadata": {
      "needs_background": "light"
     },
     "output_type": "display_data"
    }
   ],
   "source": [
    "dt = DecisionTreeClassifier(random_state=0)\n",
    "build_and_eval_model(dt, X, y)"
   ]
  },
  {
   "cell_type": "code",
   "execution_count": null,
   "id": "9e3d0b8b",
   "metadata": {},
   "outputs": [],
   "source": []
  }
 ],
 "metadata": {
  "kernelspec": {
   "display_name": "Python 3 (ipykernel)",
   "language": "python",
   "name": "python3"
  },
  "language_info": {
   "codemirror_mode": {
    "name": "ipython",
    "version": 3
   },
   "file_extension": ".py",
   "mimetype": "text/x-python",
   "name": "python",
   "nbconvert_exporter": "python",
   "pygments_lexer": "ipython3",
   "version": "3.9.7"
  }
 },
 "nbformat": 4,
 "nbformat_minor": 5
}
